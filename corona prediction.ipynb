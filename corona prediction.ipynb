{
 "cells": [
  {
   "cell_type": "markdown",
   "id": "eb4d70a3",
   "metadata": {},
   "source": [
    "# Importing important Libraries\n"
   ]
  },
  {
   "cell_type": "code",
   "execution_count": 45,
   "id": "398249c7",
   "metadata": {},
   "outputs": [],
   "source": [
    "import pandas as pd\n",
    "import numpy as np\n",
    "import seaborn as sn\n",
    "import matplotlib\n",
    "import matplotlib.pyplot as plt\n",
    "%matplotlib inline\n",
    "from sklearn.model_selection import train_test_split\n",
    "from sklearn.neighbors import KNeighborsClassifier\n",
    "from sklearn.model_selection import cross_val_score\n",
    "from sklearn.model_selection import GridSearchCV\n",
    "from sklearn.linear_model import LogisticRegression\n",
    "from sklearn.tree import DecisionTreeClassifier\n",
    "from sklearn import metrics\n",
    "from sklearn.metrics import roc_curve, roc_auc_score, classification_report, accuracy_score, confusion_matrix \n",
    "from sklearn.naive_bayes import GaussianNB\n",
    "from sklearn.metrics import precision_score , recall_score , f1_score , confusion_matrix\n",
    "from sklearn.metrics import precision_recall_curve , PrecisionRecallDisplay \n",
    "from sklearn.metrics import roc_curve , RocCurveDisplay , roc_auc_score\n",
    "from sklearn.model_selection  import cross_val_predict\n",
    "from sklearn.pipeline import Pipeline\n",
    "from sklearn.metrics import plot_confusion_matrix\n",
    "import graphviz\n",
    "from sklearn.tree import export_graphviz\n",
    "from sklearn.svm import SVC  \n"
   ]
  },
  {
   "cell_type": "markdown",
   "id": "b8eed20e",
   "metadata": {},
   "source": [
    "# Reading Data"
   ]
  },
  {
   "cell_type": "code",
   "execution_count": 46,
   "id": "ff0af1a8",
   "metadata": {},
   "outputs": [],
   "source": [
    "df=pd.read_csv(\"data.csv\",index_col =0)"
   ]
  },
  {
   "cell_type": "code",
   "execution_count": 47,
   "id": "d578bce6",
   "metadata": {},
   "outputs": [
    {
     "data": {
      "text/html": [
       "<div>\n",
       "<style scoped>\n",
       "    .dataframe tbody tr th:only-of-type {\n",
       "        vertical-align: middle;\n",
       "    }\n",
       "\n",
       "    .dataframe tbody tr th {\n",
       "        vertical-align: top;\n",
       "    }\n",
       "\n",
       "    .dataframe thead th {\n",
       "        text-align: right;\n",
       "    }\n",
       "</style>\n",
       "<table border=\"1\" class=\"dataframe\">\n",
       "  <thead>\n",
       "    <tr style=\"text-align: right;\">\n",
       "      <th></th>\n",
       "      <th>location</th>\n",
       "      <th>country</th>\n",
       "      <th>gender</th>\n",
       "      <th>age</th>\n",
       "      <th>vis_wuhan</th>\n",
       "      <th>from_wuhan</th>\n",
       "      <th>symptom1</th>\n",
       "      <th>symptom2</th>\n",
       "      <th>symptom3</th>\n",
       "      <th>symptom4</th>\n",
       "      <th>symptom5</th>\n",
       "      <th>symptom6</th>\n",
       "      <th>diff_sym_hos</th>\n",
       "      <th>result</th>\n",
       "    </tr>\n",
       "  </thead>\n",
       "  <tbody>\n",
       "    <tr>\n",
       "      <th>0</th>\n",
       "      <td>104</td>\n",
       "      <td>8</td>\n",
       "      <td>1</td>\n",
       "      <td>66.0</td>\n",
       "      <td>1</td>\n",
       "      <td>0</td>\n",
       "      <td>14</td>\n",
       "      <td>31</td>\n",
       "      <td>19</td>\n",
       "      <td>12</td>\n",
       "      <td>3</td>\n",
       "      <td>1</td>\n",
       "      <td>8</td>\n",
       "      <td>1</td>\n",
       "    </tr>\n",
       "    <tr>\n",
       "      <th>1</th>\n",
       "      <td>101</td>\n",
       "      <td>8</td>\n",
       "      <td>0</td>\n",
       "      <td>56.0</td>\n",
       "      <td>0</td>\n",
       "      <td>1</td>\n",
       "      <td>14</td>\n",
       "      <td>31</td>\n",
       "      <td>19</td>\n",
       "      <td>12</td>\n",
       "      <td>3</td>\n",
       "      <td>1</td>\n",
       "      <td>0</td>\n",
       "      <td>0</td>\n",
       "    </tr>\n",
       "    <tr>\n",
       "      <th>2</th>\n",
       "      <td>137</td>\n",
       "      <td>8</td>\n",
       "      <td>1</td>\n",
       "      <td>46.0</td>\n",
       "      <td>0</td>\n",
       "      <td>1</td>\n",
       "      <td>14</td>\n",
       "      <td>31</td>\n",
       "      <td>19</td>\n",
       "      <td>12</td>\n",
       "      <td>3</td>\n",
       "      <td>1</td>\n",
       "      <td>13</td>\n",
       "      <td>0</td>\n",
       "    </tr>\n",
       "    <tr>\n",
       "      <th>3</th>\n",
       "      <td>116</td>\n",
       "      <td>8</td>\n",
       "      <td>0</td>\n",
       "      <td>60.0</td>\n",
       "      <td>1</td>\n",
       "      <td>0</td>\n",
       "      <td>14</td>\n",
       "      <td>31</td>\n",
       "      <td>19</td>\n",
       "      <td>12</td>\n",
       "      <td>3</td>\n",
       "      <td>1</td>\n",
       "      <td>0</td>\n",
       "      <td>0</td>\n",
       "    </tr>\n",
       "    <tr>\n",
       "      <th>4</th>\n",
       "      <td>116</td>\n",
       "      <td>8</td>\n",
       "      <td>1</td>\n",
       "      <td>58.0</td>\n",
       "      <td>0</td>\n",
       "      <td>0</td>\n",
       "      <td>14</td>\n",
       "      <td>31</td>\n",
       "      <td>19</td>\n",
       "      <td>12</td>\n",
       "      <td>3</td>\n",
       "      <td>1</td>\n",
       "      <td>0</td>\n",
       "      <td>0</td>\n",
       "    </tr>\n",
       "  </tbody>\n",
       "</table>\n",
       "</div>"
      ],
      "text/plain": [
       "   location  country  gender   age  vis_wuhan  from_wuhan  symptom1  symptom2  \\\n",
       "0       104        8       1  66.0          1           0        14        31   \n",
       "1       101        8       0  56.0          0           1        14        31   \n",
       "2       137        8       1  46.0          0           1        14        31   \n",
       "3       116        8       0  60.0          1           0        14        31   \n",
       "4       116        8       1  58.0          0           0        14        31   \n",
       "\n",
       "   symptom3  symptom4  symptom5  symptom6  diff_sym_hos  result  \n",
       "0        19        12         3         1             8       1  \n",
       "1        19        12         3         1             0       0  \n",
       "2        19        12         3         1            13       0  \n",
       "3        19        12         3         1             0       0  \n",
       "4        19        12         3         1             0       0  "
      ]
     },
     "execution_count": 47,
     "metadata": {},
     "output_type": "execute_result"
    }
   ],
   "source": [
    "df.head()"
   ]
  },
  {
   "cell_type": "code",
   "execution_count": 48,
   "id": "edbb7620",
   "metadata": {},
   "outputs": [
    {
     "name": "stdout",
     "output_type": "stream",
     "text": [
      "<class 'pandas.core.frame.DataFrame'>\n",
      "Int64Index: 863 entries, 0 to 862\n",
      "Data columns (total 14 columns):\n",
      " #   Column        Non-Null Count  Dtype  \n",
      "---  ------        --------------  -----  \n",
      " 0   location      863 non-null    int64  \n",
      " 1   country       863 non-null    int64  \n",
      " 2   gender        863 non-null    int64  \n",
      " 3   age           863 non-null    float64\n",
      " 4   vis_wuhan     863 non-null    int64  \n",
      " 5   from_wuhan    863 non-null    int64  \n",
      " 6   symptom1      863 non-null    int64  \n",
      " 7   symptom2      863 non-null    int64  \n",
      " 8   symptom3      863 non-null    int64  \n",
      " 9   symptom4      863 non-null    int64  \n",
      " 10  symptom5      863 non-null    int64  \n",
      " 11  symptom6      863 non-null    int64  \n",
      " 12  diff_sym_hos  863 non-null    int64  \n",
      " 13  result        863 non-null    int64  \n",
      "dtypes: float64(1), int64(13)\n",
      "memory usage: 101.1 KB\n"
     ]
    }
   ],
   "source": [
    "df.info()"
   ]
  },
  {
   "cell_type": "markdown",
   "id": "380b527a",
   "metadata": {},
   "source": [
    "# splitting the data"
   ]
  },
  {
   "cell_type": "code",
   "execution_count": 49,
   "id": "b3bfa305",
   "metadata": {},
   "outputs": [
    {
     "data": {
      "text/html": [
       "<div>\n",
       "<style scoped>\n",
       "    .dataframe tbody tr th:only-of-type {\n",
       "        vertical-align: middle;\n",
       "    }\n",
       "\n",
       "    .dataframe tbody tr th {\n",
       "        vertical-align: top;\n",
       "    }\n",
       "\n",
       "    .dataframe thead th {\n",
       "        text-align: right;\n",
       "    }\n",
       "</style>\n",
       "<table border=\"1\" class=\"dataframe\">\n",
       "  <thead>\n",
       "    <tr style=\"text-align: right;\">\n",
       "      <th></th>\n",
       "      <th>location</th>\n",
       "      <th>country</th>\n",
       "      <th>gender</th>\n",
       "      <th>age</th>\n",
       "      <th>vis_wuhan</th>\n",
       "      <th>from_wuhan</th>\n",
       "      <th>symptom1</th>\n",
       "      <th>symptom2</th>\n",
       "      <th>symptom3</th>\n",
       "      <th>symptom4</th>\n",
       "      <th>symptom5</th>\n",
       "      <th>symptom6</th>\n",
       "      <th>diff_sym_hos</th>\n",
       "    </tr>\n",
       "  </thead>\n",
       "  <tbody>\n",
       "    <tr>\n",
       "      <th>0</th>\n",
       "      <td>104</td>\n",
       "      <td>8</td>\n",
       "      <td>1</td>\n",
       "      <td>66.0</td>\n",
       "      <td>1</td>\n",
       "      <td>0</td>\n",
       "      <td>14</td>\n",
       "      <td>31</td>\n",
       "      <td>19</td>\n",
       "      <td>12</td>\n",
       "      <td>3</td>\n",
       "      <td>1</td>\n",
       "      <td>8</td>\n",
       "    </tr>\n",
       "    <tr>\n",
       "      <th>1</th>\n",
       "      <td>101</td>\n",
       "      <td>8</td>\n",
       "      <td>0</td>\n",
       "      <td>56.0</td>\n",
       "      <td>0</td>\n",
       "      <td>1</td>\n",
       "      <td>14</td>\n",
       "      <td>31</td>\n",
       "      <td>19</td>\n",
       "      <td>12</td>\n",
       "      <td>3</td>\n",
       "      <td>1</td>\n",
       "      <td>0</td>\n",
       "    </tr>\n",
       "    <tr>\n",
       "      <th>2</th>\n",
       "      <td>137</td>\n",
       "      <td>8</td>\n",
       "      <td>1</td>\n",
       "      <td>46.0</td>\n",
       "      <td>0</td>\n",
       "      <td>1</td>\n",
       "      <td>14</td>\n",
       "      <td>31</td>\n",
       "      <td>19</td>\n",
       "      <td>12</td>\n",
       "      <td>3</td>\n",
       "      <td>1</td>\n",
       "      <td>13</td>\n",
       "    </tr>\n",
       "    <tr>\n",
       "      <th>3</th>\n",
       "      <td>116</td>\n",
       "      <td>8</td>\n",
       "      <td>0</td>\n",
       "      <td>60.0</td>\n",
       "      <td>1</td>\n",
       "      <td>0</td>\n",
       "      <td>14</td>\n",
       "      <td>31</td>\n",
       "      <td>19</td>\n",
       "      <td>12</td>\n",
       "      <td>3</td>\n",
       "      <td>1</td>\n",
       "      <td>0</td>\n",
       "    </tr>\n",
       "    <tr>\n",
       "      <th>4</th>\n",
       "      <td>116</td>\n",
       "      <td>8</td>\n",
       "      <td>1</td>\n",
       "      <td>58.0</td>\n",
       "      <td>0</td>\n",
       "      <td>0</td>\n",
       "      <td>14</td>\n",
       "      <td>31</td>\n",
       "      <td>19</td>\n",
       "      <td>12</td>\n",
       "      <td>3</td>\n",
       "      <td>1</td>\n",
       "      <td>0</td>\n",
       "    </tr>\n",
       "  </tbody>\n",
       "</table>\n",
       "</div>"
      ],
      "text/plain": [
       "   location  country  gender   age  vis_wuhan  from_wuhan  symptom1  symptom2  \\\n",
       "0       104        8       1  66.0          1           0        14        31   \n",
       "1       101        8       0  56.0          0           1        14        31   \n",
       "2       137        8       1  46.0          0           1        14        31   \n",
       "3       116        8       0  60.0          1           0        14        31   \n",
       "4       116        8       1  58.0          0           0        14        31   \n",
       "\n",
       "   symptom3  symptom4  symptom5  symptom6  diff_sym_hos  \n",
       "0        19        12         3         1             8  \n",
       "1        19        12         3         1             0  \n",
       "2        19        12         3         1            13  \n",
       "3        19        12         3         1             0  \n",
       "4        19        12         3         1             0  "
      ]
     },
     "execution_count": 49,
     "metadata": {},
     "output_type": "execute_result"
    }
   ],
   "source": [
    "X = df.drop(columns=['result'])\n",
    "y = df['result'].values\n",
    "X.head()"
   ]
  },
  {
   "cell_type": "code",
   "execution_count": 50,
   "id": "6c7b7598",
   "metadata": {},
   "outputs": [
    {
     "name": "stdout",
     "output_type": "stream",
     "text": [
      "(560, 13)\n",
      "(129, 13)\n",
      "(174, 13)\n",
      "     location  country  gender   age  vis_wuhan  from_wuhan  symptom1  \\\n",
      "685        63       13       0  28.0          0           0         2   \n",
      "635        85       12       2  49.4          0           0        14   \n",
      "850        10        4       0  49.4          0           0        14   \n",
      "173        96       11       2  49.4          0           0        14   \n",
      "744        45       13       0  58.0          0           0        14   \n",
      "..        ...      ...     ...   ...        ...         ...       ...   \n",
      "715        45       13       1  51.0          0           0         6   \n",
      "767       122       31       2  49.4          0           0        14   \n",
      "72        135        8       0  39.0          1           0        14   \n",
      "235       128       18       0  85.0          0           0        14   \n",
      "37         13        8       0  33.0          0           1        14   \n",
      "\n",
      "     symptom2  symptom3  symptom4  symptom5  symptom6  diff_sym_hos  \n",
      "685        27        19        12         3         1             5  \n",
      "635        31        19        12         3         1             0  \n",
      "850        31        19        12         3         1             0  \n",
      "173        31        19        12         3         1             0  \n",
      "744        31        19        12         3         1             0  \n",
      "..        ...       ...       ...       ...       ...           ...  \n",
      "715        31        19        12         3         1             7  \n",
      "767        31        19        12         3         1             0  \n",
      "72         31        19        12         3         1             0  \n",
      "235        31        19        12         3         1             0  \n",
      "37         31        19        12         3         1             0  \n",
      "\n",
      "[560 rows x 13 columns]      location  country  gender   age  vis_wuhan  from_wuhan  symptom1  \\\n",
      "139       135        8       0  55.0          0           1        14   \n",
      "479       108       24       1  67.0          0           0        14   \n",
      "363        73       21       0  37.0          0           1        13   \n",
      "638        36       12       1  49.4          0           0        14   \n",
      "553        19       32       1  49.4          0           1        14   \n",
      "..        ...      ...     ...   ...        ...         ...       ...   \n",
      "538       114       29       2  49.4          0           0        14   \n",
      "486       110       28       0  50.0          1           0         2   \n",
      "341        49       18       1  55.0          0           0         6   \n",
      "527       114       29       2  49.4          1           0        14   \n",
      "216       128       18       1  55.0          0           0         6   \n",
      "\n",
      "     symptom2  symptom3  symptom4  symptom5  symptom6  diff_sym_hos  \n",
      "139        31        19        12         3         1             0  \n",
      "479        31        19        12         3         1             0  \n",
      "363        31        19        12         3         1             0  \n",
      "638        31        19        12         3         1             1  \n",
      "553        31        19        12         3         1             0  \n",
      "..        ...       ...       ...       ...       ...           ...  \n",
      "538        31        19        12         3         1             0  \n",
      "486        31        19        12         3         1             3  \n",
      "341        31        19        12         3         1             1  \n",
      "527        31        19        12         3         1             0  \n",
      "216         0         3        12         3         1             8  \n",
      "\n",
      "[129 rows x 13 columns]      location  country  gender   age  vis_wuhan  from_wuhan  symptom1  \\\n",
      "789        11       25       1  22.0          0           0        20   \n",
      "587       118        7       0  55.0          1           0        14   \n",
      "74        135        8       1  49.0          0           0        14   \n",
      "61        132        8       1  52.0          1           0        14   \n",
      "857        48        3       2  24.0          0           0        14   \n",
      "..        ...      ...     ...   ...        ...         ...       ...   \n",
      "41         33        8       1  63.0          0           1        14   \n",
      "623        85       12       2  49.4          0           0        14   \n",
      "618        85       12       1  47.0          0           0         6   \n",
      "836        61       19       2  49.4          0           0        14   \n",
      "307       117       18       1  55.0          0           0         6   \n",
      "\n",
      "     symptom2  symptom3  symptom4  symptom5  symptom6  diff_sym_hos  \n",
      "789        12        19        12         3         1             0  \n",
      "587        31        19        12         3         1             0  \n",
      "74         31        19        12         3         1             0  \n",
      "61         31        19        12         3         1             0  \n",
      "857        31        19        12         3         1             0  \n",
      "..        ...       ...       ...       ...       ...           ...  \n",
      "41         31        19        12         3         1             7  \n",
      "623        31        19        12         3         1             0  \n",
      "618         7        19        12         3         1             8  \n",
      "836        31        19        12         3         1             0  \n",
      "307        17        19        12         3         1             0  \n",
      "\n",
      "[174 rows x 13 columns]\n"
     ]
    }
   ],
   "source": [
    "train_ratio = 0.65\n",
    "validation_ratio = 0.15\n",
    "test_ratio = 0.20\n",
    "# In the first step we will split the data in training and remaining dataset\n",
    "X_train, X_rem, y_train, y_rem = train_test_split(X,y, test_size=1 - train_ratio, random_state=1)\n",
    "# we have to define valid=15% of the remaining data \n",
    "X_valid, X_test, y_valid, y_test = train_test_split(X_rem,y_rem, test_size=test_ratio/(test_ratio + validation_ratio), random_state=1)\n",
    "print(X_train.shape)\n",
    "print(X_valid.shape)\n",
    "print(X_test.shape)\n",
    "print(X_train, X_valid, X_test)"
   ]
  },
  {
   "cell_type": "markdown",
   "id": "002bf900",
   "metadata": {},
   "source": [
    "# Choosing the best hyper-parameter (K) From 1 to 30"
   ]
  },
  {
   "cell_type": "code",
   "execution_count": 51,
   "id": "b16228be",
   "metadata": {},
   "outputs": [
    {
     "name": "stdout",
     "output_type": "stream",
     "text": [
      "k= 1\n",
      "Accuracy Score: 91.954023%\n",
      "Precision Score: 0.6666666666666666\n",
      "Recall Score: 0.5263157894736842\n",
      "F1 score is:  0.5882352941176471\n",
      "\n",
      "\n",
      "k= 2\n",
      "Accuracy Score: 93.678161%\n",
      "Precision Score: 1.0\n",
      "Recall Score: 0.42105263157894735\n",
      "F1 score is:  0.5925925925925926\n",
      "\n",
      "\n",
      "k= 3\n",
      "Accuracy Score: 93.103448%\n",
      "Precision Score: 0.7333333333333333\n",
      "Recall Score: 0.5789473684210527\n",
      "F1 score is:  0.6470588235294117\n",
      "\n",
      "\n",
      "k= 4\n",
      "Accuracy Score: 91.379310%\n",
      "Precision Score: 0.6666666666666666\n",
      "Recall Score: 0.42105263157894735\n",
      "F1 score is:  0.5161290322580646\n",
      "\n",
      "\n",
      "k= 5\n",
      "Accuracy Score: 91.954023%\n",
      "Precision Score: 0.6666666666666666\n",
      "Recall Score: 0.5263157894736842\n",
      "F1 score is:  0.5882352941176471\n",
      "\n",
      "\n",
      "k= 6\n",
      "Accuracy Score: 91.954023%\n",
      "Precision Score: 0.7777777777777778\n",
      "Recall Score: 0.3684210526315789\n",
      "F1 score is:  0.5\n",
      "\n",
      "\n",
      "k= 7\n",
      "Accuracy Score: 91.954023%\n",
      "Precision Score: 0.7272727272727273\n",
      "Recall Score: 0.42105263157894735\n",
      "F1 score is:  0.5333333333333333\n",
      "\n",
      "\n",
      "k= 8\n",
      "Accuracy Score: 91.379310%\n",
      "Precision Score: 0.7\n",
      "Recall Score: 0.3684210526315789\n",
      "F1 score is:  0.48275862068965514\n",
      "\n",
      "\n",
      "k= 9\n",
      "Accuracy Score: 91.379310%\n",
      "Precision Score: 0.6666666666666666\n",
      "Recall Score: 0.42105263157894735\n",
      "F1 score is:  0.5161290322580646\n",
      "\n",
      "\n",
      "k= 10\n",
      "Accuracy Score: 90.804598%\n",
      "Precision Score: 0.6666666666666666\n",
      "Recall Score: 0.3157894736842105\n",
      "F1 score is:  0.42857142857142855\n",
      "\n",
      "\n",
      "k= 11\n",
      "Accuracy Score: 91.379310%\n",
      "Precision Score: 0.7\n",
      "Recall Score: 0.3684210526315789\n",
      "F1 score is:  0.48275862068965514\n",
      "\n",
      "\n",
      "k= 12\n",
      "Accuracy Score: 91.954023%\n",
      "Precision Score: 0.7777777777777778\n",
      "Recall Score: 0.3684210526315789\n",
      "F1 score is:  0.5\n",
      "\n",
      "\n",
      "k= 13\n",
      "Accuracy Score: 91.954023%\n",
      "Precision Score: 0.7777777777777778\n",
      "Recall Score: 0.3684210526315789\n",
      "F1 score is:  0.5\n",
      "\n",
      "\n",
      "k= 14\n",
      "Accuracy Score: 91.954023%\n",
      "Precision Score: 0.7777777777777778\n",
      "Recall Score: 0.3684210526315789\n",
      "F1 score is:  0.5\n",
      "\n",
      "\n",
      "k= 15\n",
      "Accuracy Score: 92.528736%\n",
      "Precision Score: 0.8\n",
      "Recall Score: 0.42105263157894735\n",
      "F1 score is:  0.5517241379310345\n",
      "\n",
      "\n",
      "k= 16\n",
      "Accuracy Score: 91.954023%\n",
      "Precision Score: 0.7777777777777778\n",
      "Recall Score: 0.3684210526315789\n",
      "F1 score is:  0.5\n",
      "\n",
      "\n",
      "k= 17\n",
      "Accuracy Score: 92.528736%\n",
      "Precision Score: 0.8\n",
      "Recall Score: 0.42105263157894735\n",
      "F1 score is:  0.5517241379310345\n",
      "\n",
      "\n",
      "k= 18\n",
      "Accuracy Score: 91.379310%\n",
      "Precision Score: 0.75\n",
      "Recall Score: 0.3157894736842105\n",
      "F1 score is:  0.44444444444444436\n",
      "\n",
      "\n",
      "k= 19\n",
      "Accuracy Score: 91.379310%\n",
      "Precision Score: 0.75\n",
      "Recall Score: 0.3157894736842105\n",
      "F1 score is:  0.44444444444444436\n",
      "\n",
      "\n",
      "k= 20\n",
      "Accuracy Score: 90.804598%\n",
      "Precision Score: 0.7142857142857143\n",
      "Recall Score: 0.2631578947368421\n",
      "F1 score is:  0.3846153846153846\n",
      "\n",
      "\n",
      "k= 21\n",
      "Accuracy Score: 90.804598%\n",
      "Precision Score: 0.7142857142857143\n",
      "Recall Score: 0.2631578947368421\n",
      "F1 score is:  0.3846153846153846\n",
      "\n",
      "\n",
      "k= 22\n",
      "Accuracy Score: 91.379310%\n",
      "Precision Score: 0.8333333333333334\n",
      "Recall Score: 0.2631578947368421\n",
      "F1 score is:  0.39999999999999997\n",
      "\n",
      "\n",
      "k= 23\n",
      "Accuracy Score: 90.804598%\n",
      "Precision Score: 0.7142857142857143\n",
      "Recall Score: 0.2631578947368421\n",
      "F1 score is:  0.3846153846153846\n",
      "\n",
      "\n",
      "k= 24\n",
      "Accuracy Score: 90.229885%\n",
      "Precision Score: 0.6666666666666666\n",
      "Recall Score: 0.21052631578947367\n",
      "F1 score is:  0.32\n",
      "\n",
      "\n",
      "k= 25\n",
      "Accuracy Score: 91.379310%\n",
      "Precision Score: 0.75\n",
      "Recall Score: 0.3157894736842105\n",
      "F1 score is:  0.44444444444444436\n",
      "\n",
      "\n",
      "k= 26\n",
      "Accuracy Score: 90.229885%\n",
      "Precision Score: 0.6666666666666666\n",
      "Recall Score: 0.21052631578947367\n",
      "F1 score is:  0.32\n",
      "\n",
      "\n",
      "k= 27\n",
      "Accuracy Score: 90.804598%\n",
      "Precision Score: 0.7142857142857143\n",
      "Recall Score: 0.2631578947368421\n",
      "F1 score is:  0.3846153846153846\n",
      "\n",
      "\n",
      "k= 28\n",
      "Accuracy Score: 90.804598%\n",
      "Precision Score: 0.8\n",
      "Recall Score: 0.21052631578947367\n",
      "F1 score is:  0.3333333333333333\n",
      "\n",
      "\n",
      "k= 29\n",
      "Accuracy Score: 91.379310%\n",
      "Precision Score: 0.8333333333333334\n",
      "Recall Score: 0.2631578947368421\n",
      "F1 score is:  0.39999999999999997\n",
      "\n",
      "\n"
     ]
    }
   ],
   "source": [
    "k_range = range(1, 30)\n",
    "cv_scores_means=[]\n",
    "F1_Scores=[]\n",
    "Precision_Scores=[]\n",
    "Recall_Scores=[]\n",
    "for k in k_range:\n",
    "    knn = KNeighborsClassifier(n_neighbors=k)\n",
    "    knn.fit(X_train, y_train)\n",
    "    y_pred = knn.predict(X_test)\n",
    "    cv_scores=(cross_val_score(knn, X, y, cv=5))\n",
    "    print(\"k=\",k)\n",
    "    print (\"Accuracy Score: %f%%\"% (metrics.accuracy_score(y_test,y_pred)*100))\n",
    "    P_S=precision_score(y_test,y_pred, average='binary')\n",
    "    R_S=recall_score(y_test,y_pred, average='binary')\n",
    "    print (\"Precision Score:\",P_S)\n",
    "    print (\"Recall Score:\",R_S)\n",
    "    F1_KNN = f1_score(y_test,y_pred)\n",
    "    print(\"F1 score is: \" , F1_KNN)\n",
    "    cv_scores_means.append(np.mean(cv_scores))\n",
    "    F1_Scores.append(F1_KNN)\n",
    "    Precision_Scores.append(P_S)\n",
    "    Recall_Scores.append(R_S)\n",
    "    print(\"\\n\")\n"
   ]
  },
  {
   "cell_type": "markdown",
   "id": "32aa038a",
   "metadata": {},
   "source": [
    "# Graphs"
   ]
  },
  {
   "cell_type": "code",
   "execution_count": 52,
   "id": "c9661ccb",
   "metadata": {
    "scrolled": true
   },
   "outputs": [
    {
     "data": {
      "text/plain": [
       "Text(0, 0.5, 'Testing Accuracy')"
      ]
     },
     "execution_count": 52,
     "metadata": {},
     "output_type": "execute_result"
    },
    {
     "data": {
      "image/png": "[encoded data removed]",
      "text/plain": [
       "<Figure size 432x288 with 1 Axes>"
      ]
     },
     "metadata": {
      "needs_background": "light"
     },
     "output_type": "display_data"
    }
   ],
   "source": [
    "plt.plot(k_range,cv_scores_means)\n",
    "plt.xlabel('Value of K for KNN')\n",
    "plt.ylabel('Testing Accuracy')\n",
    "\n"
   ]
  },
  {
   "cell_type": "code",
   "execution_count": 53,
   "id": "ebda6592",
   "metadata": {},
   "outputs": [
    {
     "data": {
      "text/plain": [
       "Text(0, 0.5, 'Precision/Recall/F1 SCORE')"
      ]
     },
     "execution_count": 53,
     "metadata": {},
     "output_type": "execute_result"
    },
    {
     "data": {
      "image/png": "[encoded data removed]",
      "text/plain": [
       "<Figure size 432x288 with 1 Axes>"
      ]
     },
     "metadata": {
      "needs_background": "light"
     },
     "output_type": "display_data"
    }
   ],
   "source": [
    "plt.plot(k_range,F1_Scores,\"g\")\n",
    "plt.plot(k_range,Precision_Scores,\"b\",label=\"actual current values\")\n",
    "plt.plot(k_range,Recall_Scores,\"r\",label=\"actual current values\")\n",
    "plt.xlabel('Value of K for KNN')\n",
    "plt.ylabel('Precision/Recall/F1 SCORE')"
   ]
  },
  {
   "cell_type": "code",
   "execution_count": 54,
   "id": "ad4e31c4",
   "metadata": {},
   "outputs": [
    {
     "data": {
      "text/plain": [
       "Text(0, 0.5, 'Precision/Recall')"
      ]
     },
     "execution_count": 54,
     "metadata": {},
     "output_type": "execute_result"
    },
    {
     "data": {
      "image/png": "[encoded data removed]",
      "text/plain": [
       "<Figure size 432x288 with 1 Axes>"
      ]
     },
     "metadata": {
      "needs_background": "light"
     },
     "output_type": "display_data"
    }
   ],
   "source": [
    "plt.plot(k_range,Precision_Scores,\"b\",label=\"actual current values\")\n",
    "plt.plot(k_range,Recall_Scores,\"r\",label=\"actual current values\")\n",
    "plt.xlabel('Value of K for KNN')\n",
    "plt.ylabel('Precision/Recall')"
   ]
  },
  {
   "cell_type": "markdown",
   "id": "43bca19e",
   "metadata": {},
   "source": [
    "# The best hyper-parameter (K) According to accuracy only"
   ]
  },
  {
   "cell_type": "code",
   "execution_count": 55,
   "id": "81b161d4",
   "metadata": {
    "scrolled": true
   },
   "outputs": [
    {
     "name": "stdout",
     "output_type": "stream",
     "text": [
      "{'n_neighbors': 19}\n",
      "\n",
      "\n"
     ]
    },
    {
     "data": {
      "text/plain": [
       "0.933942734238473"
      ]
     },
     "execution_count": 55,
     "metadata": {},
     "output_type": "execute_result"
    }
   ],
   "source": [
    "#create new a knn model\n",
    "knn2 = KNeighborsClassifier()\n",
    "#create a dictionary of all values we want to test for n_neighbors\n",
    "param_grid = {'n_neighbors': np.arange(1, 25)}\n",
    "#use gridsearch to test all values for n_neighbors\n",
    "knn_gscv = GridSearchCV(knn2, param_grid, cv=5)\n",
    "#fit model to data\n",
    "knn_gscv.fit(X, y)\n",
    "print(knn_gscv.best_params_)\n",
    "print(\"\\n\")\n",
    "knn_gscv.best_score_"
   ]
  },
  {
   "cell_type": "markdown",
   "id": "3b4cb47d",
   "metadata": {},
   "source": [
    "# Metrics"
   ]
  },
  {
   "cell_type": "code",
   "execution_count": 56,
   "id": "25184aab",
   "metadata": {},
   "outputs": [
    {
     "name": "stdout",
     "output_type": "stream",
     "text": [
      "[0 0 0 0 0 0 0 0 0 0 0 0 0 0 0 0 0 0 0 0 0 0 0 0 0 0 0 0 0 0 0 0 0 0 0 0 0\n",
      " 0 1 0 0 0 0 0 0 1 0 0 0 0 1 0 0 0 0 0 0 0 0 0 0 0 1 0 0 1 0 0 0 1 0 0 0 1\n",
      " 0 0 0 0 0 0 0 0 1 1 0 0 0 0 0 0 0 0 0 1 0 1 0 0 1 0 0 0 0 0 0 0 0 1 0 0 0\n",
      " 1 0 0 0 0 0 0 0 0 0 0 0 0 0 0 0 0 0 0 0 0 0 0 0 0 0 0 0 0 0 0 0 0 0 0 0 0\n",
      " 0 0 0 1 0 0 0 0 0 0 0 0 0 0 0 0 0 0 0 0 0 0 0 0 0 0]\n",
      "              precision    recall  f1-score   support\n",
      "\n",
      "           0   0.949686  0.974194  0.961783       155\n",
      "           1   0.733333  0.578947  0.647059        19\n",
      "\n",
      "    accuracy                       0.931034       174\n",
      "   macro avg   0.841509  0.776570  0.804421       174\n",
      "weighted avg   0.926061  0.931034  0.927417       174\n",
      "\n"
     ]
    }
   ],
   "source": [
    "knn = KNeighborsClassifier(n_neighbors =3)\n",
    "knn.fit(X_train,y_train)\n",
    "y_predict=knn.predict(X_test)\n",
    "print(y_predict)\n",
    "print(classification_report(y_test,y_predict,digits=6))"
   ]
  },
  {
   "cell_type": "code",
   "execution_count": 57,
   "id": "3d095d1a",
   "metadata": {},
   "outputs": [
    {
     "data": {
      "image/png": "[encoded data removed]",
      "text/plain": [
       "<Figure size 576x432 with 1 Axes>"
      ]
     },
     "metadata": {
      "needs_background": "light"
     },
     "output_type": "display_data"
    }
   ],
   "source": [
    "y_scores = cross_val_predict(knn,X_train,y_train, cv=10)\n",
    "fpr, tpr, threshold = roc_curve(y_train, y_scores)\n",
    "plt.figure(figsize = (8,6))\n",
    "plt.plot(fpr, tpr, 'b')\n",
    "plt.plot([0, 1], [0, 1],'r--')\n",
    "plt.title(\"KNN\")\n",
    "plt.xlabel(\"False Positive Rate\")\n",
    "plt.ylabel(\"True Positive Rate\")\n",
    "plt.show()"
   ]
  },
  {
   "cell_type": "markdown",
   "id": "7a461c6b",
   "metadata": {},
   "source": [
    "# AUC of KNN"
   ]
  },
  {
   "cell_type": "code",
   "execution_count": 58,
   "id": "b01d50cc",
   "metadata": {},
   "outputs": [
    {
     "name": "stdout",
     "output_type": "stream",
     "text": [
      "Area Under the Curve is:  0.8511477761836442\n"
     ]
    }
   ],
   "source": [
    "AUC_of_knn = roc_auc_score(y_train, y_scores)\n",
    "print(\"Area Under the Curve is: \" , AUC_of_knn)"
   ]
  },
  {
   "cell_type": "markdown",
   "id": "e18d45a1",
   "metadata": {},
   "source": [
    "# Naive Bayes"
   ]
  },
  {
   "cell_type": "code",
   "execution_count": 59,
   "id": "f3812fdf",
   "metadata": {},
   "outputs": [
    {
     "name": "stdout",
     "output_type": "stream",
     "text": [
      "[0 0 0 0 0 0 0 0 0 0 1 0 0 1 0 0 0 0 0 0 0 0 0 0 0 0 0 0 0 0 0 0 0 0 0 0 0\n",
      " 0 1 0 0 0 0 0 0 0 0 0 0 0 1 0 0 0 0 0 0 0 0 0 0 0 0 1 0 0 0 0 0 0 0 0 0 0\n",
      " 0 0 0 0 0 0 0 0 0 1 0 1 0 0 0 0 0 0 0 0 0 0 0 0 0 0 0 0 0 0 0 0 0 1 0 0 0\n",
      " 1 0 0 0 0 0 0 0 0 0 0 0 1 0 0 0 0 0 0 0 0 0 0 0 1 0 0 0 0 0 0 0 0 1 0 0 0\n",
      " 0 0 0 1 0 0 0 0 0 0 0 0 0 0 0 0 0 0 0 0 0 1 0 1 0 0]\n",
      "Accuracy Score: 86.206897%\n",
      "Precision Score: 0.3333333333333333\n",
      "Recall Score: 0.2631578947368421\n",
      "F1 score is:  0.29411764705882354\n"
     ]
    }
   ],
   "source": [
    "gnb = GaussianNB(priors=None, var_smoothing=1*(10**(-24)))\n",
    "gnb.fit(X_train, y_train)\n",
    "y_pred = gnb.predict(X_test)\n",
    "print(y_pred)\n",
    "print (\"Accuracy Score: %f%%\"% (metrics.accuracy_score(y_test,y_pred)*100))\n",
    "P_S=precision_score(y_test,y_pred, average='binary')\n",
    "R_S=recall_score(y_test,y_pred, average='binary')\n",
    "print (\"Precision Score:\",P_S)\n",
    "print (\"Recall Score:\",R_S)\n",
    "F1_KNN = f1_score(y_test,y_pred)\n",
    "print(\"F1 score is: \" , F1_KNN)"
   ]
  },
  {
   "cell_type": "markdown",
   "id": "9438cf4e",
   "metadata": {},
   "source": [
    "# Selecting best hyper-parameter "
   ]
  },
  {
   "cell_type": "code",
   "execution_count": 60,
   "id": "cce259b5",
   "metadata": {
    "scrolled": false
   },
   "outputs": [
    {
     "name": "stdout",
     "output_type": "stream",
     "text": [
      "x= 1\n",
      "Accuracy Score: 90.804598%\n",
      "Precision Score: 1.0\n",
      "Recall Score: 0.15789473684210525\n",
      "F1 score is:  0.2727272727272727\n",
      "\n",
      "\n",
      "x= 2\n",
      "Accuracy Score: 89.080460%\n",
      "Precision Score: 0.5\n",
      "Recall Score: 0.21052631578947367\n",
      "F1 score is:  0.2962962962962963\n",
      "\n",
      "\n",
      "x= 3\n",
      "Accuracy Score: 85.632184%\n",
      "Precision Score: 0.2857142857142857\n",
      "Recall Score: 0.21052631578947367\n",
      "F1 score is:  0.24242424242424243\n",
      "\n",
      "\n",
      "x= 4\n",
      "Accuracy Score: 84.482759%\n",
      "Precision Score: 0.25\n",
      "Recall Score: 0.21052631578947367\n",
      "F1 score is:  0.22857142857142856\n",
      "\n",
      "\n",
      "x= 5\n",
      "Accuracy Score: 84.482759%\n",
      "Precision Score: 0.25\n",
      "Recall Score: 0.21052631578947367\n",
      "F1 score is:  0.22857142857142856\n",
      "\n",
      "\n",
      "x= 6\n",
      "Accuracy Score: 85.057471%\n",
      "Precision Score: 0.29411764705882354\n",
      "Recall Score: 0.2631578947368421\n",
      "F1 score is:  0.27777777777777773\n",
      "\n",
      "\n",
      "x= 7\n",
      "Accuracy Score: 85.057471%\n",
      "Precision Score: 0.29411764705882354\n",
      "Recall Score: 0.2631578947368421\n",
      "F1 score is:  0.27777777777777773\n",
      "\n",
      "\n",
      "x= 8\n",
      "Accuracy Score: 85.057471%\n",
      "Precision Score: 0.29411764705882354\n",
      "Recall Score: 0.2631578947368421\n",
      "F1 score is:  0.27777777777777773\n",
      "\n",
      "\n",
      "x= 9\n",
      "Accuracy Score: 85.057471%\n",
      "Precision Score: 0.29411764705882354\n",
      "Recall Score: 0.2631578947368421\n",
      "F1 score is:  0.27777777777777773\n",
      "\n",
      "\n",
      "x= 10\n",
      "Accuracy Score: 85.057471%\n",
      "Precision Score: 0.29411764705882354\n",
      "Recall Score: 0.2631578947368421\n",
      "F1 score is:  0.27777777777777773\n",
      "\n",
      "\n",
      "x= 11\n",
      "Accuracy Score: 85.057471%\n",
      "Precision Score: 0.29411764705882354\n",
      "Recall Score: 0.2631578947368421\n",
      "F1 score is:  0.27777777777777773\n",
      "\n",
      "\n",
      "x= 12\n",
      "Accuracy Score: 85.057471%\n",
      "Precision Score: 0.29411764705882354\n",
      "Recall Score: 0.2631578947368421\n",
      "F1 score is:  0.27777777777777773\n",
      "\n",
      "\n",
      "x= 13\n",
      "Accuracy Score: 85.057471%\n",
      "Precision Score: 0.29411764705882354\n",
      "Recall Score: 0.2631578947368421\n",
      "F1 score is:  0.27777777777777773\n",
      "\n",
      "\n",
      "x= 14\n",
      "Accuracy Score: 85.057471%\n",
      "Precision Score: 0.29411764705882354\n",
      "Recall Score: 0.2631578947368421\n",
      "F1 score is:  0.27777777777777773\n",
      "\n",
      "\n",
      "x= 15\n",
      "Accuracy Score: 85.057471%\n",
      "Precision Score: 0.29411764705882354\n",
      "Recall Score: 0.2631578947368421\n",
      "F1 score is:  0.27777777777777773\n",
      "\n",
      "\n",
      "x= 16\n",
      "Accuracy Score: 85.057471%\n",
      "Precision Score: 0.29411764705882354\n",
      "Recall Score: 0.2631578947368421\n",
      "F1 score is:  0.27777777777777773\n",
      "\n",
      "\n",
      "x= 17\n",
      "Accuracy Score: 85.057471%\n",
      "Precision Score: 0.29411764705882354\n",
      "Recall Score: 0.2631578947368421\n",
      "F1 score is:  0.27777777777777773\n",
      "\n",
      "\n",
      "x= 18\n",
      "Accuracy Score: 85.057471%\n",
      "Precision Score: 0.29411764705882354\n",
      "Recall Score: 0.2631578947368421\n",
      "F1 score is:  0.27777777777777773\n",
      "\n",
      "\n",
      "x= 19\n",
      "Accuracy Score: 85.057471%\n",
      "Precision Score: 0.29411764705882354\n",
      "Recall Score: 0.2631578947368421\n",
      "F1 score is:  0.27777777777777773\n",
      "\n",
      "\n",
      "x= 20\n",
      "Accuracy Score: 85.057471%\n",
      "Precision Score: 0.29411764705882354\n",
      "Recall Score: 0.2631578947368421\n",
      "F1 score is:  0.27777777777777773\n",
      "\n",
      "\n",
      "x= 21\n",
      "Accuracy Score: 85.632184%\n",
      "Precision Score: 0.3125\n",
      "Recall Score: 0.2631578947368421\n",
      "F1 score is:  0.2857142857142857\n",
      "\n",
      "\n",
      "x= 22\n",
      "Accuracy Score: 86.206897%\n",
      "Precision Score: 0.3333333333333333\n",
      "Recall Score: 0.2631578947368421\n",
      "F1 score is:  0.29411764705882354\n",
      "\n",
      "\n",
      "x= 23\n",
      "Accuracy Score: 86.206897%\n",
      "Precision Score: 0.3333333333333333\n",
      "Recall Score: 0.2631578947368421\n",
      "F1 score is:  0.29411764705882354\n",
      "\n",
      "\n",
      "x= 24\n",
      "Accuracy Score: 86.206897%\n",
      "Precision Score: 0.3333333333333333\n",
      "Recall Score: 0.2631578947368421\n",
      "F1 score is:  0.29411764705882354\n",
      "\n",
      "\n",
      "x= 25\n",
      "Accuracy Score: 86.206897%\n",
      "Precision Score: 0.3333333333333333\n",
      "Recall Score: 0.2631578947368421\n",
      "F1 score is:  0.29411764705882354\n",
      "\n",
      "\n",
      "x= 26\n",
      "Accuracy Score: 86.206897%\n",
      "Precision Score: 0.3333333333333333\n",
      "Recall Score: 0.2631578947368421\n",
      "F1 score is:  0.29411764705882354\n",
      "\n",
      "\n",
      "x= 27\n",
      "Accuracy Score: 86.206897%\n",
      "Precision Score: 0.3333333333333333\n",
      "Recall Score: 0.2631578947368421\n",
      "F1 score is:  0.29411764705882354\n",
      "\n",
      "\n",
      "x= 28\n",
      "Accuracy Score: 86.206897%\n",
      "Precision Score: 0.3333333333333333\n",
      "Recall Score: 0.2631578947368421\n",
      "F1 score is:  0.29411764705882354\n",
      "\n",
      "\n",
      "x= 29\n",
      "Accuracy Score: 86.206897%\n",
      "Precision Score: 0.3333333333333333\n",
      "Recall Score: 0.2631578947368421\n",
      "F1 score is:  0.29411764705882354\n",
      "\n",
      "\n"
     ]
    }
   ],
   "source": [
    "k_range = range(1, 30)\n",
    "cv_scores_means=[]\n",
    "F1_Scores=[]\n",
    "Precision_Scores=[]\n",
    "Recall_Scores=[]\n",
    "for k in k_range:\n",
    "    gnb = GaussianNB(priors=None, var_smoothing=1*(10**(-k)))\n",
    "    gnb.fit(X_train, y_train)\n",
    "    y_pred = gnb.predict(X_test)\n",
    "    cv_scores=(cross_val_score(gnb, X, y, cv=5))\n",
    "    print(\"x=\",k)\n",
    "    print (\"Accuracy Score: %f%%\"% (metrics.accuracy_score(y_test,y_pred)*100))\n",
    "    P_S=precision_score(y_test,y_pred, average='binary')\n",
    "    R_S=recall_score(y_test,y_pred, average='binary')\n",
    "    print (\"Precision Score:\",P_S)\n",
    "    print (\"Recall Score:\",R_S)\n",
    "    F1_KNN = f1_score(y_test,y_pred)\n",
    "    print(\"F1 score is: \" , F1_KNN)\n",
    "    cv_scores_means.append(np.mean(cv_scores))\n",
    "    F1_Scores.append(F1_KNN)\n",
    "    Precision_Scores.append(P_S)\n",
    "    Recall_Scores.append(R_S)\n",
    "    print(\"\\n\")"
   ]
  },
  {
   "cell_type": "markdown",
   "id": "0fddcc2f",
   "metadata": {},
   "source": [
    "# Graphs"
   ]
  },
  {
   "cell_type": "code",
   "execution_count": 61,
   "id": "8a8b1b38",
   "metadata": {},
   "outputs": [
    {
     "data": {
      "text/plain": [
       "Text(0, 0.5, 'Precision/Recall/F1 SCORE')"
      ]
     },
     "execution_count": 61,
     "metadata": {},
     "output_type": "execute_result"
    },
    {
     "data": {
      "image/png": "[encoded data removed]",
      "text/plain": [
       "<Figure size 432x288 with 1 Axes>"
      ]
     },
     "metadata": {
      "needs_background": "light"
     },
     "output_type": "display_data"
    }
   ],
   "source": [
    "plt.plot(k_range,F1_Scores,\"g\")\n",
    "plt.plot(k_range,Precision_Scores,\"b\",label=\"actual current values\")\n",
    "plt.plot(k_range,Recall_Scores,\"r\",label=\"actual current values\")\n",
    "plt.xlabel('Value of Var_Smoothing')\n",
    "plt.ylabel('Precision/Recall/F1 SCORE')"
   ]
  },
  {
   "cell_type": "code",
   "execution_count": 62,
   "id": "a8089863",
   "metadata": {},
   "outputs": [
    {
     "data": {
      "text/plain": [
       "Text(0, 0.5, 'Precision/Recall')"
      ]
     },
     "execution_count": 62,
     "metadata": {},
     "output_type": "execute_result"
    },
    {
     "data": {
      "image/png": "[encoded data removed]",
      "text/plain": [
       "<Figure size 432x288 with 1 Axes>"
      ]
     },
     "metadata": {
      "needs_background": "light"
     },
     "output_type": "display_data"
    }
   ],
   "source": [
    "plt.plot(k_range,Precision_Scores,\"b\",label=\"actual current values\")\n",
    "plt.plot(k_range,Recall_Scores,\"r\",label=\"actual current values\")\n",
    "plt.xlabel('Value of Var_Smoothing')\n",
    "plt.ylabel('Precision/Recall')"
   ]
  },
  {
   "cell_type": "markdown",
   "id": "d85e8948",
   "metadata": {},
   "source": [
    "# Metrics "
   ]
  },
  {
   "cell_type": "code",
   "execution_count": 63,
   "id": "addea30f",
   "metadata": {},
   "outputs": [
    {
     "name": "stdout",
     "output_type": "stream",
     "text": [
      "[0 0 0 0 0 0 0 0 0 0 1 0 0 1 0 0 0 0 0 0 0 0 0 0 0 0 0 0 0 0 0 0 0 0 0 0 0\n",
      " 0 1 0 0 0 0 0 0 0 0 0 0 0 1 0 0 0 0 0 0 0 0 0 0 0 0 1 0 0 0 0 0 0 0 0 0 0\n",
      " 0 0 0 0 0 0 0 0 0 1 0 1 0 0 0 0 0 0 0 0 0 0 0 0 0 0 0 0 0 0 0 0 0 1 0 0 0\n",
      " 1 0 0 0 0 0 0 0 0 0 0 0 1 0 0 0 0 0 0 0 0 0 0 0 1 0 0 0 0 0 0 0 0 1 0 0 0\n",
      " 0 0 0 1 0 0 0 0 0 0 0 0 0 0 0 0 0 0 0 0 0 1 0 1 0 0]\n",
      "              precision    recall  f1-score   support\n",
      "\n",
      "           0   0.911950  0.935484  0.923567       155\n",
      "           1   0.333333  0.263158  0.294118        19\n",
      "\n",
      "    accuracy                       0.862069       174\n",
      "   macro avg   0.622642  0.599321  0.608842       174\n",
      "weighted avg   0.848767  0.862069  0.854834       174\n",
      "\n"
     ]
    }
   ],
   "source": [
    "gnb = GaussianNB(priors=None, var_smoothing=1*(10**(-22)))\n",
    "gnb.fit(X_train, y_train)\n",
    "y_pred = gnb.predict(X_test)\n",
    "print(y_pred)\n",
    "print(classification_report(y_test,y_pred,digits=6))"
   ]
  },
  {
   "cell_type": "markdown",
   "id": "b35644e5",
   "metadata": {},
   "source": [
    "# Naive Bayes ROC "
   ]
  },
  {
   "cell_type": "code",
   "execution_count": 64,
   "id": "137358b6",
   "metadata": {},
   "outputs": [
    {
     "data": {
      "image/png": "[encoded data removed]",
      "text/plain": [
       "<Figure size 576x432 with 1 Axes>"
      ]
     },
     "metadata": {
      "needs_background": "light"
     },
     "output_type": "display_data"
    },
    {
     "name": "stdout",
     "output_type": "stream",
     "text": [
      "Area Under the Curve is:  0.7052247728359636\n"
     ]
    }
   ],
   "source": [
    "y_scores = cross_val_predict(gnb,X_train,y_train, cv=10)\n",
    "fpr_NB, tpr_NB, threshold_NB = roc_curve(y_train, y_scores)\n",
    "plt.figure(figsize = (8,6))\n",
    "plt.plot(fpr_NB, tpr_NB, 'b')\n",
    "plt.plot([0, 1], [0, 1],'r--')\n",
    "plt.title(\"Naive Bayes\")\n",
    "plt.xlabel(\"False Positive Rate\")\n",
    "plt.ylabel(\"True Positive Rate\")\n",
    "plt.show()\n",
    "AUC_of_Naive_Bayes = roc_auc_score(y_train, y_scores)\n",
    "print(\"Area Under the Curve is: \" , AUC_of_Naive_Bayes)"
   ]
  },
  {
   "cell_type": "markdown",
   "id": "7de95ebc",
   "metadata": {},
   "source": [
    "# Comparing KNN & Naive Bayes"
   ]
  },
  {
   "cell_type": "code",
   "execution_count": 65,
   "id": "d97cff9e",
   "metadata": {},
   "outputs": [
    {
     "data": {
      "image/png": "[encoded data removed]",
      "text/plain": [
       "<Figure size 576x432 with 1 Axes>"
      ]
     },
     "metadata": {
      "needs_background": "light"
     },
     "output_type": "display_data"
    }
   ],
   "source": [
    "plt.figure(figsize = (8,6))\n",
    "plt.plot(fpr_NB, tpr_NB, 'b')\n",
    "plt.plot(fpr, tpr, 'g')\n",
    "plt.plot([0, 1], [0, 1],'r--')\n",
    "plt.legend([\"Naive Bayes\", \"KNN\" , \"threshold\"], loc =\"lower right\")\n",
    "plt.xlabel(\"False Positive Rate\")\n",
    "plt.ylabel(\"True Positive Rate\")\n",
    "plt.show()"
   ]
  },
  {
   "cell_type": "markdown",
   "id": "8cf0cc8a",
   "metadata": {},
   "source": [
    "# Compare AUC for KNN & Naive Bayes"
   ]
  },
  {
   "cell_type": "code",
   "execution_count": 66,
   "id": "32471a38",
   "metadata": {},
   "outputs": [
    {
     "name": "stdout",
     "output_type": "stream",
     "text": [
      "Area Under the Curve in KNN is:  0.8511477761836442\n",
      "Area Under the Curve in Naive Bayes is:  0.7052247728359636\n"
     ]
    }
   ],
   "source": [
    "print(\"Area Under the Curve in KNN is: \" , AUC_of_knn)\n",
    "print(\"Area Under the Curve in Naive Bayes is: \" , AUC_of_Naive_Bayes)"
   ]
  },
  {
   "cell_type": "markdown",
   "id": "05b885ec",
   "metadata": {},
   "source": [
    "# applying logistic regrission"
   ]
  },
  {
   "cell_type": "code",
   "execution_count": 67,
   "id": "4a871b9e",
   "metadata": {},
   "outputs": [
    {
     "data": {
      "text/plain": [
       "Pipeline(steps=[('log_reg', LogisticRegression(C=3, max_iter=5000))])"
      ]
     },
     "execution_count": 67,
     "metadata": {},
     "output_type": "execute_result"
    }
   ],
   "source": [
    "logreg = LogisticRegression(max_iter=5000,C=3)\n",
    "corona_model = Pipeline([('log_reg', logreg)])\n",
    "corona_model.fit(X_train,y_train)"
   ]
  },
  {
   "cell_type": "markdown",
   "id": "aa158037",
   "metadata": {},
   "source": [
    "# training the model"
   ]
  },
  {
   "cell_type": "code",
   "execution_count": 68,
   "id": "e14a7a65",
   "metadata": {},
   "outputs": [
    {
     "name": "stdout",
     "output_type": "stream",
     "text": [
      "Confusion matrix:\n",
      "\n",
      "Training AUC: 96.7300 %\n",
      "Training accuracy: 96.4286 %\n",
      "predicted    0   1\n",
      "Actual            \n",
      "0          486   6\n",
      "1           14  54\n"
     ]
    }
   ],
   "source": [
    "y_train_hat = corona_model.predict(X_train)\n",
    "y_train_hat_probs = corona_model.predict_proba(X_train)[:,1]\n",
    "\n",
    "train_accuracy = accuracy_score(y_train, y_train_hat)*100\n",
    "train_auc_roc = roc_auc_score(y_train, y_train_hat_probs)*100\n",
    "\n",
    "print('Confusion matrix:\\n') \n",
    "confusion_matrix=pd.crosstab(y_train, y_train_hat,rownames=['Actual'],colnames=['predicted'])\n",
    "\n",
    "print('Training AUC: %.4f %%' % train_auc_roc)\n",
    "print('Training accuracy: %.4f %%' % train_accuracy)\n",
    "print(confusion_matrix)"
   ]
  },
  {
   "cell_type": "code",
   "execution_count": 69,
   "id": "270f5e62",
   "metadata": {},
   "outputs": [
    {
     "data": {
      "image/png": "[encoded data removed]",
      "text/plain": [
       "<Figure size 576x432 with 1 Axes>"
      ]
     },
     "metadata": {
      "needs_background": "light"
     },
     "output_type": "display_data"
    },
    {
     "name": "stdout",
     "output_type": "stream",
     "text": [
      "Area Under the Curve is:  0.8658536585365854\n"
     ]
    }
   ],
   "source": [
    "y_scores_log = cross_val_predict(corona_model,X_train,y_train, cv=10)\n",
    "fpr_log, tpr_log, threshold_log = roc_curve(y_train, y_scores_log)\n",
    "plt.figure(figsize = (8,6))\n",
    "plt.plot(fpr_log, tpr_log, 'b')\n",
    "plt.plot([0, 1], [0, 1],'r--')\n",
    "plt.title(\"logistic regression\")\n",
    "plt.xlabel(\"False Positive Rate\")\n",
    "plt.ylabel(\"True Positive Rate\")\n",
    "plt.show()\n",
    "AUC_of_LR = roc_auc_score(y_train, y_scores_log)\n",
    "print(\"Area Under the Curve is: \" , AUC_of_LR)"
   ]
  },
  {
   "cell_type": "code",
   "execution_count": 70,
   "id": "ff6f5c51",
   "metadata": {},
   "outputs": [
    {
     "name": "stdout",
     "output_type": "stream",
     "text": [
      "[0 0 0 0 0 0 0 0 0 0 0 0 0 1 0 0 0 0 0 0 0 0 0 0 0 0 0 0 0 0 0 1 0 0 0 0 0\n",
      " 0 1 0 0 0 0 0 0 1 0 0 0 0 0 0 0 0 0 0 0 0 0 0 0 0 0 0 0 0 0 0 0 0 0 0 0 0\n",
      " 0 0 0 0 0 0 0 0 0 0 0 0 0 0 0 0 0 0 0 1 0 0 0 0 1 0 0 0 0 0 0 0 0 1 0 0 0\n",
      " 1 1 0 0 0 0 0 0 0 0 0 0 0 0 0 0 0 0 0 0 0 0 0 0 0 0 0 0 0 0 0 0 0 0 0 0 0\n",
      " 0 0 0 1 0 0 0 0 0 0 0 0 0 0 0 0 0 0 0 0 0 1 0 0 0 0]\n",
      "              precision    recall  f1-score   support\n",
      "\n",
      "           0   0.938650  0.987097  0.962264       155\n",
      "           1   0.818182  0.473684  0.600000        19\n",
      "\n",
      "    accuracy                       0.931034       174\n",
      "   macro avg   0.878416  0.730390  0.781132       174\n",
      "weighted avg   0.925496  0.931034  0.922707       174\n",
      "\n"
     ]
    }
   ],
   "source": [
    "LR = LogisticRegression(max_iter=5000, C=3)\n",
    "LR.fit(X_train, y_train)\n",
    "y_pred = LR.predict(X_test)\n",
    "print(y_pred)\n",
    "print(classification_report(y_test,y_pred,digits=6))"
   ]
  },
  {
   "cell_type": "markdown",
   "id": "e59a42a9",
   "metadata": {},
   "source": [
    "# Comparing KNN & NB & LR"
   ]
  },
  {
   "cell_type": "code",
   "execution_count": 71,
   "id": "76f6e2b2",
   "metadata": {},
   "outputs": [
    {
     "data": {
      "image/png": "[encoded data removed]",
      "text/plain": [
       "<Figure size 576x432 with 1 Axes>"
      ]
     },
     "metadata": {
      "needs_background": "light"
     },
     "output_type": "display_data"
    }
   ],
   "source": [
    "plt.figure(figsize = (8,6))\n",
    "plt.plot(fpr_NB, tpr_NB, 'b')\n",
    "plt.plot(fpr, tpr, 'g')\n",
    "plt.plot(fpr_log,tpr_log,'orange')\n",
    "plt.plot([0, 1], [0, 1],'r--')\n",
    "plt.legend([\"Naive Bayes\", \"KNN\" ,\"LR\", \"threshold\"], loc =\"lower right\")\n",
    "plt.xlabel(\"False Positive Rate\")\n",
    "plt.ylabel(\"True Positive Rate\")\n",
    "plt.show()"
   ]
  },
  {
   "cell_type": "code",
   "execution_count": 72,
   "id": "e2e747e5",
   "metadata": {},
   "outputs": [
    {
     "name": "stdout",
     "output_type": "stream",
     "text": [
      "Area Under the Curve in Logistic regression is:  0.8658536585365854\n",
      "Area Under the Curve in KNN is:  0.8511477761836442\n",
      "Area Under the Curve in Naive Bayes is:  0.7052247728359636\n"
     ]
    }
   ],
   "source": [
    "print(\"Area Under the Curve in Logistic regression is: \" , AUC_of_LR)\n",
    "print(\"Area Under the Curve in KNN is: \" , AUC_of_knn)\n",
    "print(\"Area Under the Curve in Naive Bayes is: \" , AUC_of_Naive_Bayes)"
   ]
  },
  {
   "cell_type": "markdown",
   "id": "409d6dbd",
   "metadata": {},
   "source": [
    "# Print function for Train & Test"
   ]
  },
  {
   "cell_type": "markdown",
   "id": "2aed6c31",
   "metadata": {},
   "source": [
    "# Decision Tree with the best tunning hyper-parameters\n",
    "\n"
   ]
  },
  {
   "cell_type": "code",
   "execution_count": 73,
   "id": "f5b77e08",
   "metadata": {},
   "outputs": [
    {
     "name": "stdout",
     "output_type": "stream",
     "text": [
      "Fitting 5 folds for each of 4332 candidates, totalling 21660 fits\n",
      "Best paramters: {'criterion': 'gini', 'max_depth': 8, 'min_samples_leaf': 1, 'min_samples_split': 2, 'splitter': 'best'})\n"
     ]
    },
    {
     "data": {
      "text/plain": [
       "DecisionTreeClassifier(max_depth=8)"
      ]
     },
     "execution_count": 73,
     "metadata": {},
     "output_type": "execute_result"
    }
   ],
   "source": [
    "params = {\n",
    "    \"criterion\":(\"gini\", \"entropy\"), \n",
    "    \"splitter\":(\"best\", \"random\"), \n",
    "    \"max_depth\":(list(range(1, 20))), \n",
    "    \"min_samples_split\":[2, 3, 4], \n",
    "    \"min_samples_leaf\":list(range(1, 20)), \n",
    "}\n",
    "\n",
    "tree_clf = DecisionTreeClassifier(random_state=42)\n",
    "tree_cv = GridSearchCV(tree_clf, params, scoring=\"recall\", n_jobs=-1, verbose=1, cv=5)\n",
    "tree_cv.fit(X_train, y_train)\n",
    "best_params = tree_cv.best_params_\n",
    "print(f\"Best paramters: {best_params})\")\n",
    "\n",
    "tree_clf = DecisionTreeClassifier(**best_params)\n",
    "tree_clf.fit(X_train, y_train)"
   ]
  },
  {
   "cell_type": "markdown",
   "id": "a5c98721",
   "metadata": {},
   "source": [
    "# Classification reprot for DT with best tunning Hyper-Parameters"
   ]
  },
  {
   "cell_type": "code",
   "execution_count": 74,
   "id": "2e81ffdf",
   "metadata": {},
   "outputs": [
    {
     "name": "stdout",
     "output_type": "stream",
     "text": [
      "[0 0 0 0 0 0 0 0 1 0 0 0 0 0 0 0 0 0 0 1 0 0 0 0 0 0 0 0 0 0 0 0 0 0 0 0 0\n",
      " 0 0 0 0 0 0 0 1 0 0 0 1 0 0 0 0 1 0 0 0 0 1 0 0 0 0 1 0 0 0 0 0 0 0 1 0 1\n",
      " 0 0 0 1 0 0 0 0 0 0 0 0 0 0 0 0 0 0 0 0 0 0 0 0 0 0 0 0 1 0 0 0 0 0 0 0 0\n",
      " 0 1 0 0 0 0 0 0 0 0 0 0 0 0 0 0 0 0 0 0 0 0 0 1 0 0 0 0 1 0 0 1 0 0 0 0 0\n",
      " 0 0 0 0 1 0 0 0 0 0 0 0 0 0 0 1 0 0 0 1 0 0 0 0 0 0 0 1 0 0 0 0 1 0 0 1 0\n",
      " 0 0 0 1 0 0 0 0 0 0 1 0 0 0 0 0 0 0 0 0 0 0 0 0 0 0 0 0 0 0 1 0 0 0 0 0 0\n",
      " 1 0 0 0 0 0 1 0 0 0 0 0 0 0 1 1 0 0 0 0 1 0 1 0 0 1 0 0 0 0 0 0 0 0 0 0 0\n",
      " 1 0 0 0 0 0 0 0 0 0 0 0 0 0 0 0 0 0 0 0 0 1 0 0 0 1 0 0 0 0 0 0 0 0 0 0 0\n",
      " 0 0 0 0 0 0 1 0 0 0 0 0 0 0 0 0 0 0 0 0 0 0 1 0 0 0 0 0 0 0 0 0 0 1 0 0 1\n",
      " 0 0 0 0 0 0 0 0 0 1 1 0 0 0 0 0 0 0 0 0 0 0 1 0 0 0 0 0 0 0 0 0 0 0 0 0 0\n",
      " 0 0 0 0 0 0 0 0 0 0 0 1 0 0 0 0 0 0 0 0 0 0 0 0 0 0 0 0 0 0 1 1 0 0 0 0 0\n",
      " 0 0 0 0 0 0 0 1 0 0 0 1 0 0 0 0 0 1 0 0 0 0 0 0 0 0 1 0 0 0 0 0 0 0 0 0 0\n",
      " 0 0 1 0 0 0 1 1 0 0 0 0 0 0 0 1 0 0 0 0 0 0 0 1 1 0 0 0 0 0 0 1 0 0 0 1 0\n",
      " 0 0 0 0 0 0 0 0 0 0 0 1 0 0 0 0 0 0 0 0 1 0 0 0 0 0 0 0 0 0 0 0 0 0 0 0 0\n",
      " 0 1 0 0 0 0 0 0 0 0 0 1 0 0 0 0 1 1 0 0 0 0 1 0 1 0 0 0 0 0 1 0 0 1 0 0 0\n",
      " 0 0 0 1 0]\n",
      "              precision    recall  f1-score   support\n",
      "\n",
      "           0   0.997972  1.000000  0.998985       492\n",
      "           1   1.000000  0.985294  0.992593        68\n",
      "\n",
      "    accuracy                       0.998214       560\n",
      "   macro avg   0.998986  0.992647  0.995789       560\n",
      "weighted avg   0.998218  0.998214  0.998209       560\n",
      "\n"
     ]
    }
   ],
   "source": [
    "pred = tree_clf.predict(X_train)\n",
    "print(pred)\n",
    "print(classification_report(y_train,pred,digits=6))"
   ]
  },
  {
   "cell_type": "code",
   "execution_count": 75,
   "id": "eabc397f",
   "metadata": {},
   "outputs": [
    {
     "name": "stdout",
     "output_type": "stream",
     "text": [
      "[0 0 0 0 1 0 0 0 0 0 0 0 0 1 0 0 0 0 0 0 0 0 0 0 0 0 0 0 0 0 0 1 0 0 0 0 0\n",
      " 0 1 0 0 0 0 0 0 1 0 0 0 0 0 0 0 0 0 0 0 0 0 1 0 0 1 0 0 0 0 0 0 1 0 0 0 1\n",
      " 0 0 0 0 0 0 0 0 1 0 0 0 0 0 0 0 0 0 0 1 0 0 0 0 1 0 0 0 0 0 0 0 0 1 0 0 0\n",
      " 1 0 0 0 0 0 0 0 0 0 0 0 0 0 0 0 0 0 0 0 0 0 0 0 0 0 0 0 0 0 0 0 0 1 0 0 0\n",
      " 0 0 0 0 0 0 0 0 0 0 0 0 0 0 0 0 0 0 0 0 0 0 0 0 0 0]\n",
      "              precision    recall  f1-score   support\n",
      "\n",
      "           0   0.968553  0.993548  0.980892       155\n",
      "           1   0.933333  0.736842  0.823529        19\n",
      "\n",
      "    accuracy                       0.965517       174\n",
      "   macro avg   0.950943  0.865195  0.902211       174\n",
      "weighted avg   0.964708  0.965517  0.963708       174\n",
      "\n"
     ]
    }
   ],
   "source": [
    "pred = tree_clf.predict(X_test)\n",
    "print(pred)\n",
    "print(classification_report(y_test,pred,digits=6))"
   ]
  },
  {
   "cell_type": "markdown",
   "id": "adf5ba4b",
   "metadata": {},
   "source": [
    "# Decision Tree Visualization "
   ]
  },
  {
   "cell_type": "code",
   "execution_count": 76,
   "id": "c8d24dbb",
   "metadata": {
    "scrolled": true
   },
   "outputs": [
    {
     "data": {
      "image/svg+xml": [
       "<?xml version=\"1.0\" encoding=\"UTF-8\" standalone=\"no\"?>\r\n",
       "<!DOCTYPE svg PUBLIC \"-//W3C//DTD SVG 1.1//EN\"\r\n",
       " \"http://www.w3.org/Graphics/SVG/1.1/DTD/svg11.dtd\">\r\n",
       "<!-- Generated by graphviz version 2.38.0 (20140413.2041)\r\n",
       " -->\r\n",
       "<!-- Title: Tree Pages: 1 -->\r\n",
       "<svg width=\"1158pt\" height=\"1028pt\"\r\n",
       " viewBox=\"0.00 0.00 1158.00 1028.00\" xmlns=\"http://www.w3.org/2000/svg\" xmlns:xlink=\"http://www.w3.org/1999/xlink\">\r\n",
       "<g id=\"graph0\" class=\"graph\" transform=\"scale(1 1) rotate(0) translate(4 1024)\">\r\n",
       "<title>Tree</title>\r\n",
       "<polygon fill=\"white\" stroke=\"none\" points=\"-4,4 -4,-1024 1154,-1024 1154,4 -4,4\"/>\r\n",
       "<!-- 0 -->\r\n",
       "<g id=\"node1\" class=\"node\"><title>0</title>\r\n",
       "<path fill=\"#e99254\" stroke=\"black\" d=\"M545.5,-1020C545.5,-1020 447.5,-1020 447.5,-1020 441.5,-1020 435.5,-1014 435.5,-1008 435.5,-1008 435.5,-949 435.5,-949 435.5,-943 441.5,-937 447.5,-937 447.5,-937 545.5,-937 545.5,-937 551.5,-937 557.5,-943 557.5,-949 557.5,-949 557.5,-1008 557.5,-1008 557.5,-1014 551.5,-1020 545.5,-1020\"/>\r\n",
       "<text text-anchor=\"start\" x=\"462.5\" y=\"-1004.8\" font-family=\"Helvetica,sans-Serif\" font-size=\"14.00\">age ≤ 67.5</text>\r\n",
       "<text text-anchor=\"start\" x=\"459\" y=\"-989.8\" font-family=\"Helvetica,sans-Serif\" font-size=\"14.00\">gini = 0.213</text>\r\n",
       "<text text-anchor=\"start\" x=\"449\" y=\"-974.8\" font-family=\"Helvetica,sans-Serif\" font-size=\"14.00\">samples = 560</text>\r\n",
       "<text text-anchor=\"start\" x=\"443.5\" y=\"-959.8\" font-family=\"Helvetica,sans-Serif\" font-size=\"14.00\">value = [492, 68]</text>\r\n",
       "<text text-anchor=\"start\" x=\"463\" y=\"-944.8\" font-family=\"Helvetica,sans-Serif\" font-size=\"14.00\">class = No</text>\r\n",
       "</g>\r\n",
       "<!-- 1 -->\r\n",
       "<g id=\"node2\" class=\"node\"><title>1</title>\r\n",
       "<path fill=\"#e6843e\" stroke=\"black\" d=\"M461.5,-901C461.5,-901 363.5,-901 363.5,-901 357.5,-901 351.5,-895 351.5,-889 351.5,-889 351.5,-830 351.5,-830 351.5,-824 357.5,-818 363.5,-818 363.5,-818 461.5,-818 461.5,-818 467.5,-818 473.5,-824 473.5,-830 473.5,-830 473.5,-889 473.5,-889 473.5,-895 467.5,-901 461.5,-901\"/>\r\n",
       "<text text-anchor=\"start\" x=\"371.5\" y=\"-885.8\" font-family=\"Helvetica,sans-Serif\" font-size=\"14.00\">country ≤ 3.5</text>\r\n",
       "<text text-anchor=\"start\" x=\"375\" y=\"-870.8\" font-family=\"Helvetica,sans-Serif\" font-size=\"14.00\">gini = 0.052</text>\r\n",
       "<text text-anchor=\"start\" x=\"365\" y=\"-855.8\" font-family=\"Helvetica,sans-Serif\" font-size=\"14.00\">samples = 488</text>\r\n",
       "<text text-anchor=\"start\" x=\"359.5\" y=\"-840.8\" font-family=\"Helvetica,sans-Serif\" font-size=\"14.00\">value = [475, 13]</text>\r\n",
       "<text text-anchor=\"start\" x=\"379\" y=\"-825.8\" font-family=\"Helvetica,sans-Serif\" font-size=\"14.00\">class = No</text>\r\n",
       "</g>\r\n",
       "<!-- 0&#45;&gt;1 -->\r\n",
       "<g id=\"edge1\" class=\"edge\"><title>0&#45;&gt;1</title>\r\n",
       "<path fill=\"none\" stroke=\"black\" d=\"M467.357,-936.907C460.971,-928.014 454.148,-918.509 447.558,-909.331\"/>\r\n",
       "<polygon fill=\"black\" stroke=\"black\" points=\"450.267,-907.103 441.592,-901.021 444.581,-911.185 450.267,-907.103\"/>\r\n",
       "<text text-anchor=\"middle\" x=\"437.542\" y=\"-921.991\" font-family=\"Helvetica,sans-Serif\" font-size=\"14.00\">True</text>\r\n",
       "</g>\r\n",
       "<!-- 26 -->\r\n",
       "<g id=\"node27\" class=\"node\"><title>26</title>\r\n",
       "<path fill=\"#76bbed\" stroke=\"black\" d=\"M626,-901C626,-901 537,-901 537,-901 531,-901 525,-895 525,-889 525,-889 525,-830 525,-830 525,-824 531,-818 537,-818 537,-818 626,-818 626,-818 632,-818 638,-824 638,-830 638,-830 638,-889 638,-889 638,-895 632,-901 626,-901\"/>\r\n",
       "<text text-anchor=\"start\" x=\"535\" y=\"-885.8\" font-family=\"Helvetica,sans-Serif\" font-size=\"14.00\">location ≤ 35.5</text>\r\n",
       "<text text-anchor=\"start\" x=\"544\" y=\"-870.8\" font-family=\"Helvetica,sans-Serif\" font-size=\"14.00\">gini = 0.361</text>\r\n",
       "<text text-anchor=\"start\" x=\"538\" y=\"-855.8\" font-family=\"Helvetica,sans-Serif\" font-size=\"14.00\">samples = 72</text>\r\n",
       "<text text-anchor=\"start\" x=\"533\" y=\"-840.8\" font-family=\"Helvetica,sans-Serif\" font-size=\"14.00\">value = [17, 55]</text>\r\n",
       "<text text-anchor=\"start\" x=\"544.5\" y=\"-825.8\" font-family=\"Helvetica,sans-Serif\" font-size=\"14.00\">class = Yes</text>\r\n",
       "</g>\r\n",
       "<!-- 0&#45;&gt;26 -->\r\n",
       "<g id=\"edge26\" class=\"edge\"><title>0&#45;&gt;26</title>\r\n",
       "<path fill=\"none\" stroke=\"black\" d=\"M525.99,-936.907C532.451,-928.014 539.357,-918.509 546.024,-909.331\"/>\r\n",
       "<polygon fill=\"black\" stroke=\"black\" points=\"549.016,-911.168 552.062,-901.021 543.353,-907.054 549.016,-911.168\"/>\r\n",
       "<text text-anchor=\"middle\" x=\"555.973\" y=\"-922.013\" font-family=\"Helvetica,sans-Serif\" font-size=\"14.00\">False</text>\r\n",
       "</g>\r\n",
       "<!-- 2 -->\r\n",
       "<g id=\"node3\" class=\"node\"><title>2</title>\r\n",
       "<path fill=\"#88c4ef\" stroke=\"black\" d=\"M293,-782C293,-782 220,-782 220,-782 214,-782 208,-776 208,-770 208,-770 208,-711 208,-711 208,-705 214,-699 220,-699 220,-699 293,-699 293,-699 299,-699 305,-705 305,-711 305,-711 305,-770 305,-770 305,-776 299,-782 293,-782\"/>\r\n",
       "<text text-anchor=\"start\" x=\"222.5\" y=\"-766.8\" font-family=\"Helvetica,sans-Serif\" font-size=\"14.00\">age ≤ 36.0</text>\r\n",
       "<text text-anchor=\"start\" x=\"219\" y=\"-751.8\" font-family=\"Helvetica,sans-Serif\" font-size=\"14.00\">gini = 0.408</text>\r\n",
       "<text text-anchor=\"start\" x=\"217\" y=\"-736.8\" font-family=\"Helvetica,sans-Serif\" font-size=\"14.00\">samples = 7</text>\r\n",
       "<text text-anchor=\"start\" x=\"216\" y=\"-721.8\" font-family=\"Helvetica,sans-Serif\" font-size=\"14.00\">value = [2, 5]</text>\r\n",
       "<text text-anchor=\"start\" x=\"219.5\" y=\"-706.8\" font-family=\"Helvetica,sans-Serif\" font-size=\"14.00\">class = Yes</text>\r\n",
       "</g>\r\n",
       "<!-- 1&#45;&gt;2 -->\r\n",
       "<g id=\"edge2\" class=\"edge\"><title>1&#45;&gt;2</title>\r\n",
       "<path fill=\"none\" stroke=\"black\" d=\"M358.377,-817.907C343.749,-806.937 327.882,-795.036 313.122,-783.966\"/>\r\n",
       "<polygon fill=\"black\" stroke=\"black\" points=\"315.15,-781.113 305.05,-777.913 310.95,-786.713 315.15,-781.113\"/>\r\n",
       "</g>\r\n",
       "<!-- 7 -->\r\n",
       "<g id=\"node8\" class=\"node\"><title>7</title>\r\n",
       "<path fill=\"#e5833c\" stroke=\"black\" d=\"M457,-782C457,-782 368,-782 368,-782 362,-782 356,-776 356,-770 356,-770 356,-711 356,-711 356,-705 362,-699 368,-699 368,-699 457,-699 457,-699 463,-699 469,-705 469,-711 469,-711 469,-770 469,-770 469,-776 463,-782 457,-782\"/>\r\n",
       "<text text-anchor=\"start\" x=\"378.5\" y=\"-766.8\" font-family=\"Helvetica,sans-Serif\" font-size=\"14.00\">age ≤ 59.5</text>\r\n",
       "<text text-anchor=\"start\" x=\"375\" y=\"-751.8\" font-family=\"Helvetica,sans-Serif\" font-size=\"14.00\">gini = 0.033</text>\r\n",
       "<text text-anchor=\"start\" x=\"365\" y=\"-736.8\" font-family=\"Helvetica,sans-Serif\" font-size=\"14.00\">samples = 481</text>\r\n",
       "<text text-anchor=\"start\" x=\"364\" y=\"-721.8\" font-family=\"Helvetica,sans-Serif\" font-size=\"14.00\">value = [473, 8]</text>\r\n",
       "<text text-anchor=\"start\" x=\"379\" y=\"-706.8\" font-family=\"Helvetica,sans-Serif\" font-size=\"14.00\">class = No</text>\r\n",
       "</g>\r\n",
       "<!-- 1&#45;&gt;7 -->\r\n",
       "<g id=\"edge7\" class=\"edge\"><title>1&#45;&gt;7</title>\r\n",
       "<path fill=\"none\" stroke=\"black\" d=\"M412.5,-817.907C412.5,-809.649 412.5,-800.864 412.5,-792.302\"/>\r\n",
       "<polygon fill=\"black\" stroke=\"black\" points=\"416,-792.021 412.5,-782.021 409,-792.021 416,-792.021\"/>\r\n",
       "</g>\r\n",
       "<!-- 3 -->\r\n",
       "<g id=\"node4\" class=\"node\"><title>3</title>\r\n",
       "<path fill=\"#f2c09c\" stroke=\"black\" d=\"M178,-663C178,-663 105,-663 105,-663 99,-663 93,-657 93,-651 93,-651 93,-592 93,-592 93,-586 99,-580 105,-580 105,-580 178,-580 178,-580 184,-580 190,-586 190,-592 190,-592 190,-651 190,-651 190,-657 184,-663 178,-663\"/>\r\n",
       "<text text-anchor=\"start\" x=\"107.5\" y=\"-647.8\" font-family=\"Helvetica,sans-Serif\" font-size=\"14.00\">age ≤ 24.5</text>\r\n",
       "<text text-anchor=\"start\" x=\"104\" y=\"-632.8\" font-family=\"Helvetica,sans-Serif\" font-size=\"14.00\">gini = 0.444</text>\r\n",
       "<text text-anchor=\"start\" x=\"102\" y=\"-617.8\" font-family=\"Helvetica,sans-Serif\" font-size=\"14.00\">samples = 3</text>\r\n",
       "<text text-anchor=\"start\" x=\"101\" y=\"-602.8\" font-family=\"Helvetica,sans-Serif\" font-size=\"14.00\">value = [2, 1]</text>\r\n",
       "<text text-anchor=\"start\" x=\"108\" y=\"-587.8\" font-family=\"Helvetica,sans-Serif\" font-size=\"14.00\">class = No</text>\r\n",
       "</g>\r\n",
       "<!-- 2&#45;&gt;3 -->\r\n",
       "<g id=\"edge3\" class=\"edge\"><title>2&#45;&gt;3</title>\r\n",
       "<path fill=\"none\" stroke=\"black\" d=\"M216.601,-698.907C207.503,-689.651 197.754,-679.732 188.393,-670.209\"/>\r\n",
       "<polygon fill=\"black\" stroke=\"black\" points=\"190.834,-667.699 181.328,-663.021 185.842,-672.606 190.834,-667.699\"/>\r\n",
       "</g>\r\n",
       "<!-- 6 -->\r\n",
       "<g id=\"node7\" class=\"node\"><title>6</title>\r\n",
       "<path fill=\"#399de5\" stroke=\"black\" d=\"M293,-655.5C293,-655.5 220,-655.5 220,-655.5 214,-655.5 208,-649.5 208,-643.5 208,-643.5 208,-599.5 208,-599.5 208,-593.5 214,-587.5 220,-587.5 220,-587.5 293,-587.5 293,-587.5 299,-587.5 305,-593.5 305,-599.5 305,-599.5 305,-643.5 305,-643.5 305,-649.5 299,-655.5 293,-655.5\"/>\r\n",
       "<text text-anchor=\"start\" x=\"227.5\" y=\"-640.3\" font-family=\"Helvetica,sans-Serif\" font-size=\"14.00\">gini = 0.0</text>\r\n",
       "<text text-anchor=\"start\" x=\"217\" y=\"-625.3\" font-family=\"Helvetica,sans-Serif\" font-size=\"14.00\">samples = 4</text>\r\n",
       "<text text-anchor=\"start\" x=\"216\" y=\"-610.3\" font-family=\"Helvetica,sans-Serif\" font-size=\"14.00\">value = [0, 4]</text>\r\n",
       "<text text-anchor=\"start\" x=\"219.5\" y=\"-595.3\" font-family=\"Helvetica,sans-Serif\" font-size=\"14.00\">class = Yes</text>\r\n",
       "</g>\r\n",
       "<!-- 2&#45;&gt;6 -->\r\n",
       "<g id=\"edge6\" class=\"edge\"><title>2&#45;&gt;6</title>\r\n",
       "<path fill=\"none\" stroke=\"black\" d=\"M256.5,-698.907C256.5,-688.204 256.5,-676.615 256.5,-665.776\"/>\r\n",
       "<polygon fill=\"black\" stroke=\"black\" points=\"260,-665.667 256.5,-655.667 253,-665.667 260,-665.667\"/>\r\n",
       "</g>\r\n",
       "<!-- 4 -->\r\n",
       "<g id=\"node5\" class=\"node\"><title>4</title>\r\n",
       "<path fill=\"#399de5\" stroke=\"black\" d=\"M87,-536.5C87,-536.5 14,-536.5 14,-536.5 8,-536.5 2,-530.5 2,-524.5 2,-524.5 2,-480.5 2,-480.5 2,-474.5 8,-468.5 14,-468.5 14,-468.5 87,-468.5 87,-468.5 93,-468.5 99,-474.5 99,-480.5 99,-480.5 99,-524.5 99,-524.5 99,-530.5 93,-536.5 87,-536.5\"/>\r\n",
       "<text text-anchor=\"start\" x=\"21.5\" y=\"-521.3\" font-family=\"Helvetica,sans-Serif\" font-size=\"14.00\">gini = 0.0</text>\r\n",
       "<text text-anchor=\"start\" x=\"11\" y=\"-506.3\" font-family=\"Helvetica,sans-Serif\" font-size=\"14.00\">samples = 1</text>\r\n",
       "<text text-anchor=\"start\" x=\"10\" y=\"-491.3\" font-family=\"Helvetica,sans-Serif\" font-size=\"14.00\">value = [0, 1]</text>\r\n",
       "<text text-anchor=\"start\" x=\"13.5\" y=\"-476.3\" font-family=\"Helvetica,sans-Serif\" font-size=\"14.00\">class = Yes</text>\r\n",
       "</g>\r\n",
       "<!-- 3&#45;&gt;4 -->\r\n",
       "<g id=\"edge4\" class=\"edge\"><title>3&#45;&gt;4</title>\r\n",
       "<path fill=\"none\" stroke=\"black\" d=\"M109.928,-579.907C101.088,-568.542 91.472,-556.178 82.6018,-544.774\"/>\r\n",
       "<polygon fill=\"black\" stroke=\"black\" points=\"85.1987,-542.412 76.2965,-536.667 79.6732,-546.709 85.1987,-542.412\"/>\r\n",
       "</g>\r\n",
       "<!-- 5 -->\r\n",
       "<g id=\"node6\" class=\"node\"><title>5</title>\r\n",
       "<path fill=\"#e58139\" stroke=\"black\" d=\"M202,-536.5C202,-536.5 129,-536.5 129,-536.5 123,-536.5 117,-530.5 117,-524.5 117,-524.5 117,-480.5 117,-480.5 117,-474.5 123,-468.5 129,-468.5 129,-468.5 202,-468.5 202,-468.5 208,-468.5 214,-474.5 214,-480.5 214,-480.5 214,-524.5 214,-524.5 214,-530.5 208,-536.5 202,-536.5\"/>\r\n",
       "<text text-anchor=\"start\" x=\"136.5\" y=\"-521.3\" font-family=\"Helvetica,sans-Serif\" font-size=\"14.00\">gini = 0.0</text>\r\n",
       "<text text-anchor=\"start\" x=\"126\" y=\"-506.3\" font-family=\"Helvetica,sans-Serif\" font-size=\"14.00\">samples = 2</text>\r\n",
       "<text text-anchor=\"start\" x=\"125\" y=\"-491.3\" font-family=\"Helvetica,sans-Serif\" font-size=\"14.00\">value = [2, 0]</text>\r\n",
       "<text text-anchor=\"start\" x=\"132\" y=\"-476.3\" font-family=\"Helvetica,sans-Serif\" font-size=\"14.00\">class = No</text>\r\n",
       "</g>\r\n",
       "<!-- 3&#45;&gt;5 -->\r\n",
       "<g id=\"edge5\" class=\"edge\"><title>3&#45;&gt;5</title>\r\n",
       "<path fill=\"none\" stroke=\"black\" d=\"M149.827,-579.907C152.022,-569.204 154.399,-557.615 156.623,-546.776\"/>\r\n",
       "<polygon fill=\"black\" stroke=\"black\" points=\"160.116,-547.166 158.697,-536.667 153.258,-545.76 160.116,-547.166\"/>\r\n",
       "</g>\r\n",
       "<!-- 8 -->\r\n",
       "<g id=\"node9\" class=\"node\"><title>8</title>\r\n",
       "<path fill=\"#e58139\" stroke=\"black\" d=\"M424,-655.5C424,-655.5 335,-655.5 335,-655.5 329,-655.5 323,-649.5 323,-643.5 323,-643.5 323,-599.5 323,-599.5 323,-593.5 329,-587.5 335,-587.5 335,-587.5 424,-587.5 424,-587.5 430,-587.5 436,-593.5 436,-599.5 436,-599.5 436,-643.5 436,-643.5 436,-649.5 430,-655.5 424,-655.5\"/>\r\n",
       "<text text-anchor=\"start\" x=\"350.5\" y=\"-640.3\" font-family=\"Helvetica,sans-Serif\" font-size=\"14.00\">gini = 0.0</text>\r\n",
       "<text text-anchor=\"start\" x=\"332\" y=\"-625.3\" font-family=\"Helvetica,sans-Serif\" font-size=\"14.00\">samples = 424</text>\r\n",
       "<text text-anchor=\"start\" x=\"331\" y=\"-610.3\" font-family=\"Helvetica,sans-Serif\" font-size=\"14.00\">value = [424, 0]</text>\r\n",
       "<text text-anchor=\"start\" x=\"346\" y=\"-595.3\" font-family=\"Helvetica,sans-Serif\" font-size=\"14.00\">class = No</text>\r\n",
       "</g>\r\n",
       "<!-- 7&#45;&gt;8 -->\r\n",
       "<g id=\"edge8\" class=\"edge\"><title>7&#45;&gt;8</title>\r\n",
       "<path fill=\"none\" stroke=\"black\" d=\"M401.051,-698.907C398.001,-688.094 394.696,-676.376 391.612,-665.441\"/>\r\n",
       "<polygon fill=\"black\" stroke=\"black\" points=\"394.938,-664.341 388.855,-655.667 388.201,-666.242 394.938,-664.341\"/>\r\n",
       "</g>\r\n",
       "<!-- 9 -->\r\n",
       "<g id=\"node10\" class=\"node\"><title>9</title>\r\n",
       "<path fill=\"#e99659\" stroke=\"black\" d=\"M580.5,-663C580.5,-663 466.5,-663 466.5,-663 460.5,-663 454.5,-657 454.5,-651 454.5,-651 454.5,-592 454.5,-592 454.5,-586 460.5,-580 466.5,-580 466.5,-580 580.5,-580 580.5,-580 586.5,-580 592.5,-586 592.5,-592 592.5,-592 592.5,-651 592.5,-651 592.5,-657 586.5,-663 580.5,-663\"/>\r\n",
       "<text text-anchor=\"start\" x=\"462.5\" y=\"-647.8\" font-family=\"Helvetica,sans-Serif\" font-size=\"14.00\">diff_sym_hos ≤ 3.5</text>\r\n",
       "<text text-anchor=\"start\" x=\"486\" y=\"-632.8\" font-family=\"Helvetica,sans-Serif\" font-size=\"14.00\">gini = 0.241</text>\r\n",
       "<text text-anchor=\"start\" x=\"480\" y=\"-617.8\" font-family=\"Helvetica,sans-Serif\" font-size=\"14.00\">samples = 57</text>\r\n",
       "<text text-anchor=\"start\" x=\"479\" y=\"-602.8\" font-family=\"Helvetica,sans-Serif\" font-size=\"14.00\">value = [49, 8]</text>\r\n",
       "<text text-anchor=\"start\" x=\"490\" y=\"-587.8\" font-family=\"Helvetica,sans-Serif\" font-size=\"14.00\">class = No</text>\r\n",
       "</g>\r\n",
       "<!-- 7&#45;&gt;9 -->\r\n",
       "<g id=\"edge9\" class=\"edge\"><title>7&#45;&gt;9</title>\r\n",
       "<path fill=\"none\" stroke=\"black\" d=\"M451.011,-698.907C459.707,-689.742 469.018,-679.927 477.972,-670.489\"/>\r\n",
       "<polygon fill=\"black\" stroke=\"black\" points=\"480.714,-672.684 485.057,-663.021 475.635,-667.867 480.714,-672.684\"/>\r\n",
       "</g>\r\n",
       "<!-- 10 -->\r\n",
       "<g id=\"node11\" class=\"node\"><title>10</title>\r\n",
       "<path fill=\"#e78c4a\" stroke=\"black\" d=\"M361,-544C361,-544 256,-544 256,-544 250,-544 244,-538 244,-532 244,-532 244,-473 244,-473 244,-467 250,-461 256,-461 256,-461 361,-461 361,-461 367,-461 373,-467 373,-473 373,-473 373,-532 373,-532 373,-538 367,-544 361,-544\"/>\r\n",
       "<text text-anchor=\"start\" x=\"252\" y=\"-528.8\" font-family=\"Helvetica,sans-Serif\" font-size=\"14.00\">from_wuhan ≤ 0.5</text>\r\n",
       "<text text-anchor=\"start\" x=\"271\" y=\"-513.8\" font-family=\"Helvetica,sans-Serif\" font-size=\"14.00\">gini = 0.147</text>\r\n",
       "<text text-anchor=\"start\" x=\"265\" y=\"-498.8\" font-family=\"Helvetica,sans-Serif\" font-size=\"14.00\">samples = 50</text>\r\n",
       "<text text-anchor=\"start\" x=\"264\" y=\"-483.8\" font-family=\"Helvetica,sans-Serif\" font-size=\"14.00\">value = [46, 4]</text>\r\n",
       "<text text-anchor=\"start\" x=\"275\" y=\"-468.8\" font-family=\"Helvetica,sans-Serif\" font-size=\"14.00\">class = No</text>\r\n",
       "</g>\r\n",
       "<!-- 9&#45;&gt;10 -->\r\n",
       "<g id=\"edge10\" class=\"edge\"><title>9&#45;&gt;10</title>\r\n",
       "<path fill=\"none\" stroke=\"black\" d=\"M454.289,-582.836C431.213,-570.279 405.429,-556.247 382.036,-543.517\"/>\r\n",
       "<polygon fill=\"black\" stroke=\"black\" points=\"383.655,-540.414 373.198,-538.708 380.309,-546.562 383.655,-540.414\"/>\r\n",
       "</g>\r\n",
       "<!-- 19 -->\r\n",
       "<g id=\"node20\" class=\"node\"><title>19</title>\r\n",
       "<path fill=\"#cee6f8\" stroke=\"black\" d=\"M575,-544C575,-544 472,-544 472,-544 466,-544 460,-538 460,-532 460,-532 460,-473 460,-473 460,-467 466,-461 472,-461 472,-461 575,-461 575,-461 581,-461 587,-467 587,-473 587,-473 587,-532 587,-532 587,-538 581,-544 575,-544\"/>\r\n",
       "<text text-anchor=\"start\" x=\"468\" y=\"-528.8\" font-family=\"Helvetica,sans-Serif\" font-size=\"14.00\">symptom2 ≤ 29.0</text>\r\n",
       "<text text-anchor=\"start\" x=\"490\" y=\"-513.8\" font-family=\"Helvetica,sans-Serif\" font-size=\"14.00\">gini = 0.49</text>\r\n",
       "<text text-anchor=\"start\" x=\"484\" y=\"-498.8\" font-family=\"Helvetica,sans-Serif\" font-size=\"14.00\">samples = 7</text>\r\n",
       "<text text-anchor=\"start\" x=\"483\" y=\"-483.8\" font-family=\"Helvetica,sans-Serif\" font-size=\"14.00\">value = [3, 4]</text>\r\n",
       "<text text-anchor=\"start\" x=\"486.5\" y=\"-468.8\" font-family=\"Helvetica,sans-Serif\" font-size=\"14.00\">class = Yes</text>\r\n",
       "</g>\r\n",
       "<!-- 9&#45;&gt;19 -->\r\n",
       "<g id=\"edge19\" class=\"edge\"><title>9&#45;&gt;19</title>\r\n",
       "<path fill=\"none\" stroke=\"black\" d=\"M523.5,-579.907C523.5,-571.649 523.5,-562.864 523.5,-554.302\"/>\r\n",
       "<polygon fill=\"black\" stroke=\"black\" points=\"527,-554.021 523.5,-544.021 520,-554.021 527,-554.021\"/>\r\n",
       "</g>\r\n",
       "<!-- 11 -->\r\n",
       "<g id=\"node12\" class=\"node\"><title>11</title>\r\n",
       "<path fill=\"#e6843e\" stroke=\"black\" d=\"M212,-425C212,-425 131,-425 131,-425 125,-425 119,-419 119,-413 119,-413 119,-354 119,-354 119,-348 125,-342 131,-342 131,-342 212,-342 212,-342 218,-342 224,-348 224,-354 224,-354 224,-413 224,-413 224,-419 218,-425 212,-425\"/>\r\n",
       "<text text-anchor=\"start\" x=\"131\" y=\"-409.8\" font-family=\"Helvetica,sans-Serif\" font-size=\"14.00\">gender ≤ 1.5</text>\r\n",
       "<text text-anchor=\"start\" x=\"134\" y=\"-394.8\" font-family=\"Helvetica,sans-Serif\" font-size=\"14.00\">gini = 0.044</text>\r\n",
       "<text text-anchor=\"start\" x=\"128\" y=\"-379.8\" font-family=\"Helvetica,sans-Serif\" font-size=\"14.00\">samples = 44</text>\r\n",
       "<text text-anchor=\"start\" x=\"127\" y=\"-364.8\" font-family=\"Helvetica,sans-Serif\" font-size=\"14.00\">value = [43, 1]</text>\r\n",
       "<text text-anchor=\"start\" x=\"138\" y=\"-349.8\" font-family=\"Helvetica,sans-Serif\" font-size=\"14.00\">class = No</text>\r\n",
       "</g>\r\n",
       "<!-- 10&#45;&gt;11 -->\r\n",
       "<g id=\"edge11\" class=\"edge\"><title>10&#45;&gt;11</title>\r\n",
       "<path fill=\"none\" stroke=\"black\" d=\"M260.969,-460.907C249.917,-451.469 238.06,-441.343 226.709,-431.649\"/>\r\n",
       "<polygon fill=\"black\" stroke=\"black\" points=\"228.825,-428.854 218.947,-425.021 224.279,-434.177 228.825,-428.854\"/>\r\n",
       "</g>\r\n",
       "<!-- 16 -->\r\n",
       "<g id=\"node17\" class=\"node\"><title>16</title>\r\n",
       "<path fill=\"#ffffff\" stroke=\"black\" d=\"M345,-425C345,-425 272,-425 272,-425 266,-425 260,-419 260,-413 260,-413 260,-354 260,-354 260,-348 266,-342 272,-342 272,-342 345,-342 345,-342 351,-342 357,-348 357,-354 357,-354 357,-413 357,-413 357,-419 351,-425 345,-425\"/>\r\n",
       "<text text-anchor=\"start\" x=\"268\" y=\"-409.8\" font-family=\"Helvetica,sans-Serif\" font-size=\"14.00\">gender ≤ 0.5</text>\r\n",
       "<text text-anchor=\"start\" x=\"279.5\" y=\"-394.8\" font-family=\"Helvetica,sans-Serif\" font-size=\"14.00\">gini = 0.5</text>\r\n",
       "<text text-anchor=\"start\" x=\"269\" y=\"-379.8\" font-family=\"Helvetica,sans-Serif\" font-size=\"14.00\">samples = 6</text>\r\n",
       "<text text-anchor=\"start\" x=\"268\" y=\"-364.8\" font-family=\"Helvetica,sans-Serif\" font-size=\"14.00\">value = [3, 3]</text>\r\n",
       "<text text-anchor=\"start\" x=\"275\" y=\"-349.8\" font-family=\"Helvetica,sans-Serif\" font-size=\"14.00\">class = No</text>\r\n",
       "</g>\r\n",
       "<!-- 10&#45;&gt;16 -->\r\n",
       "<g id=\"edge16\" class=\"edge\"><title>10&#45;&gt;16</title>\r\n",
       "<path fill=\"none\" stroke=\"black\" d=\"M308.5,-460.907C308.5,-452.649 308.5,-443.864 308.5,-435.302\"/>\r\n",
       "<polygon fill=\"black\" stroke=\"black\" points=\"312,-435.021 308.5,-425.021 305,-435.021 312,-435.021\"/>\r\n",
       "</g>\r\n",
       "<!-- 12 -->\r\n",
       "<g id=\"node13\" class=\"node\"><title>12</title>\r\n",
       "<path fill=\"#e58139\" stroke=\"black\" d=\"M93,-298.5C93,-298.5 12,-298.5 12,-298.5 6,-298.5 0,-292.5 0,-286.5 0,-286.5 0,-242.5 0,-242.5 0,-236.5 6,-230.5 12,-230.5 12,-230.5 93,-230.5 93,-230.5 99,-230.5 105,-236.5 105,-242.5 105,-242.5 105,-286.5 105,-286.5 105,-292.5 99,-298.5 93,-298.5\"/>\r\n",
       "<text text-anchor=\"start\" x=\"23.5\" y=\"-283.3\" font-family=\"Helvetica,sans-Serif\" font-size=\"14.00\">gini = 0.0</text>\r\n",
       "<text text-anchor=\"start\" x=\"9\" y=\"-268.3\" font-family=\"Helvetica,sans-Serif\" font-size=\"14.00\">samples = 42</text>\r\n",
       "<text text-anchor=\"start\" x=\"8\" y=\"-253.3\" font-family=\"Helvetica,sans-Serif\" font-size=\"14.00\">value = [42, 0]</text>\r\n",
       "<text text-anchor=\"start\" x=\"19\" y=\"-238.3\" font-family=\"Helvetica,sans-Serif\" font-size=\"14.00\">class = No</text>\r\n",
       "</g>\r\n",
       "<!-- 11&#45;&gt;12 -->\r\n",
       "<g id=\"edge12\" class=\"edge\"><title>11&#45;&gt;12</title>\r\n",
       "<path fill=\"none\" stroke=\"black\" d=\"M130.214,-341.907C118.317,-330.211 105.345,-317.457 93.4683,-305.78\"/>\r\n",
       "<polygon fill=\"black\" stroke=\"black\" points=\"95.8185,-303.182 86.2339,-298.667 90.9108,-308.174 95.8185,-303.182\"/>\r\n",
       "</g>\r\n",
       "<!-- 13 -->\r\n",
       "<g id=\"node14\" class=\"node\"><title>13</title>\r\n",
       "<path fill=\"#ffffff\" stroke=\"black\" d=\"M208,-306C208,-306 135,-306 135,-306 129,-306 123,-300 123,-294 123,-294 123,-235 123,-235 123,-229 129,-223 135,-223 135,-223 208,-223 208,-223 214,-223 220,-229 220,-235 220,-235 220,-294 220,-294 220,-300 214,-306 208,-306\"/>\r\n",
       "<text text-anchor=\"start\" x=\"137.5\" y=\"-290.8\" font-family=\"Helvetica,sans-Serif\" font-size=\"14.00\">age ≤ 65.5</text>\r\n",
       "<text text-anchor=\"start\" x=\"142.5\" y=\"-275.8\" font-family=\"Helvetica,sans-Serif\" font-size=\"14.00\">gini = 0.5</text>\r\n",
       "<text text-anchor=\"start\" x=\"132\" y=\"-260.8\" font-family=\"Helvetica,sans-Serif\" font-size=\"14.00\">samples = 2</text>\r\n",
       "<text text-anchor=\"start\" x=\"131\" y=\"-245.8\" font-family=\"Helvetica,sans-Serif\" font-size=\"14.00\">value = [1, 1]</text>\r\n",
       "<text text-anchor=\"start\" x=\"138\" y=\"-230.8\" font-family=\"Helvetica,sans-Serif\" font-size=\"14.00\">class = No</text>\r\n",
       "</g>\r\n",
       "<!-- 11&#45;&gt;13 -->\r\n",
       "<g id=\"edge13\" class=\"edge\"><title>11&#45;&gt;13</title>\r\n",
       "<path fill=\"none\" stroke=\"black\" d=\"M171.5,-341.907C171.5,-333.649 171.5,-324.864 171.5,-316.302\"/>\r\n",
       "<polygon fill=\"black\" stroke=\"black\" points=\"175,-316.021 171.5,-306.021 168,-316.021 175,-316.021\"/>\r\n",
       "</g>\r\n",
       "<!-- 14 -->\r\n",
       "<g id=\"node15\" class=\"node\"><title>14</title>\r\n",
       "<path fill=\"#e58139\" stroke=\"black\" d=\"M150,-179.5C150,-179.5 77,-179.5 77,-179.5 71,-179.5 65,-173.5 65,-167.5 65,-167.5 65,-123.5 65,-123.5 65,-117.5 71,-111.5 77,-111.5 77,-111.5 150,-111.5 150,-111.5 156,-111.5 162,-117.5 162,-123.5 162,-123.5 162,-167.5 162,-167.5 162,-173.5 156,-179.5 150,-179.5\"/>\r\n",
       "<text text-anchor=\"start\" x=\"84.5\" y=\"-164.3\" font-family=\"Helvetica,sans-Serif\" font-size=\"14.00\">gini = 0.0</text>\r\n",
       "<text text-anchor=\"start\" x=\"74\" y=\"-149.3\" font-family=\"Helvetica,sans-Serif\" font-size=\"14.00\">samples = 1</text>\r\n",
       "<text text-anchor=\"start\" x=\"73\" y=\"-134.3\" font-family=\"Helvetica,sans-Serif\" font-size=\"14.00\">value = [1, 0]</text>\r\n",
       "<text text-anchor=\"start\" x=\"80\" y=\"-119.3\" font-family=\"Helvetica,sans-Serif\" font-size=\"14.00\">class = No</text>\r\n",
       "</g>\r\n",
       "<!-- 13&#45;&gt;14 -->\r\n",
       "<g id=\"edge14\" class=\"edge\"><title>13&#45;&gt;14</title>\r\n",
       "<path fill=\"none\" stroke=\"black\" d=\"M151.377,-222.907C145.907,-211.873 139.971,-199.898 134.456,-188.773\"/>\r\n",
       "<polygon fill=\"black\" stroke=\"black\" points=\"137.519,-187.072 129.942,-179.667 131.247,-190.181 137.519,-187.072\"/>\r\n",
       "</g>\r\n",
       "<!-- 15 -->\r\n",
       "<g id=\"node16\" class=\"node\"><title>15</title>\r\n",
       "<path fill=\"#399de5\" stroke=\"black\" d=\"M265,-179.5C265,-179.5 192,-179.5 192,-179.5 186,-179.5 180,-173.5 180,-167.5 180,-167.5 180,-123.5 180,-123.5 180,-117.5 186,-111.5 192,-111.5 192,-111.5 265,-111.5 265,-111.5 271,-111.5 277,-117.5 277,-123.5 277,-123.5 277,-167.5 277,-167.5 277,-173.5 271,-179.5 265,-179.5\"/>\r\n",
       "<text text-anchor=\"start\" x=\"199.5\" y=\"-164.3\" font-family=\"Helvetica,sans-Serif\" font-size=\"14.00\">gini = 0.0</text>\r\n",
       "<text text-anchor=\"start\" x=\"189\" y=\"-149.3\" font-family=\"Helvetica,sans-Serif\" font-size=\"14.00\">samples = 1</text>\r\n",
       "<text text-anchor=\"start\" x=\"188\" y=\"-134.3\" font-family=\"Helvetica,sans-Serif\" font-size=\"14.00\">value = [0, 1]</text>\r\n",
       "<text text-anchor=\"start\" x=\"191.5\" y=\"-119.3\" font-family=\"Helvetica,sans-Serif\" font-size=\"14.00\">class = Yes</text>\r\n",
       "</g>\r\n",
       "<!-- 13&#45;&gt;15 -->\r\n",
       "<g id=\"edge15\" class=\"edge\"><title>13&#45;&gt;15</title>\r\n",
       "<path fill=\"none\" stroke=\"black\" d=\"M191.276,-222.907C196.652,-211.873 202.486,-199.898 207.906,-188.773\"/>\r\n",
       "<polygon fill=\"black\" stroke=\"black\" points=\"211.108,-190.19 212.342,-179.667 204.816,-187.124 211.108,-190.19\"/>\r\n",
       "</g>\r\n",
       "<!-- 17 -->\r\n",
       "<g id=\"node18\" class=\"node\"><title>17</title>\r\n",
       "<path fill=\"#e58139\" stroke=\"black\" d=\"M323,-298.5C323,-298.5 250,-298.5 250,-298.5 244,-298.5 238,-292.5 238,-286.5 238,-286.5 238,-242.5 238,-242.5 238,-236.5 244,-230.5 250,-230.5 250,-230.5 323,-230.5 323,-230.5 329,-230.5 335,-236.5 335,-242.5 335,-242.5 335,-286.5 335,-286.5 335,-292.5 329,-298.5 323,-298.5\"/>\r\n",
       "<text text-anchor=\"start\" x=\"257.5\" y=\"-283.3\" font-family=\"Helvetica,sans-Serif\" font-size=\"14.00\">gini = 0.0</text>\r\n",
       "<text text-anchor=\"start\" x=\"247\" y=\"-268.3\" font-family=\"Helvetica,sans-Serif\" font-size=\"14.00\">samples = 3</text>\r\n",
       "<text text-anchor=\"start\" x=\"246\" y=\"-253.3\" font-family=\"Helvetica,sans-Serif\" font-size=\"14.00\">value = [3, 0]</text>\r\n",
       "<text text-anchor=\"start\" x=\"253\" y=\"-238.3\" font-family=\"Helvetica,sans-Serif\" font-size=\"14.00\">class = No</text>\r\n",
       "</g>\r\n",
       "<!-- 16&#45;&gt;17 -->\r\n",
       "<g id=\"edge17\" class=\"edge\"><title>16&#45;&gt;17</title>\r\n",
       "<path fill=\"none\" stroke=\"black\" d=\"M300.867,-341.907C298.855,-331.204 296.676,-319.615 294.637,-308.776\"/>\r\n",
       "<polygon fill=\"black\" stroke=\"black\" points=\"298.024,-307.848 292.737,-298.667 291.145,-309.142 298.024,-307.848\"/>\r\n",
       "</g>\r\n",
       "<!-- 18 -->\r\n",
       "<g id=\"node19\" class=\"node\"><title>18</title>\r\n",
       "<path fill=\"#399de5\" stroke=\"black\" d=\"M438,-298.5C438,-298.5 365,-298.5 365,-298.5 359,-298.5 353,-292.5 353,-286.5 353,-286.5 353,-242.5 353,-242.5 353,-236.5 359,-230.5 365,-230.5 365,-230.5 438,-230.5 438,-230.5 444,-230.5 450,-236.5 450,-242.5 450,-242.5 450,-286.5 450,-286.5 450,-292.5 444,-298.5 438,-298.5\"/>\r\n",
       "<text text-anchor=\"start\" x=\"372.5\" y=\"-283.3\" font-family=\"Helvetica,sans-Serif\" font-size=\"14.00\">gini = 0.0</text>\r\n",
       "<text text-anchor=\"start\" x=\"362\" y=\"-268.3\" font-family=\"Helvetica,sans-Serif\" font-size=\"14.00\">samples = 3</text>\r\n",
       "<text text-anchor=\"start\" x=\"361\" y=\"-253.3\" font-family=\"Helvetica,sans-Serif\" font-size=\"14.00\">value = [0, 3]</text>\r\n",
       "<text text-anchor=\"start\" x=\"364.5\" y=\"-238.3\" font-family=\"Helvetica,sans-Serif\" font-size=\"14.00\">class = Yes</text>\r\n",
       "</g>\r\n",
       "<!-- 16&#45;&gt;18 -->\r\n",
       "<g id=\"edge18\" class=\"edge\"><title>16&#45;&gt;18</title>\r\n",
       "<path fill=\"none\" stroke=\"black\" d=\"M340.766,-341.907C349.8,-330.542 359.627,-318.178 368.693,-306.774\"/>\r\n",
       "<polygon fill=\"black\" stroke=\"black\" points=\"371.654,-308.673 375.137,-298.667 366.174,-304.317 371.654,-308.673\"/>\r\n",
       "</g>\r\n",
       "<!-- 20 -->\r\n",
       "<g id=\"node21\" class=\"node\"><title>20</title>\r\n",
       "<path fill=\"#399de5\" stroke=\"black\" d=\"M496,-417.5C496,-417.5 423,-417.5 423,-417.5 417,-417.5 411,-411.5 411,-405.5 411,-405.5 411,-361.5 411,-361.5 411,-355.5 417,-349.5 423,-349.5 423,-349.5 496,-349.5 496,-349.5 502,-349.5 508,-355.5 508,-361.5 508,-361.5 508,-405.5 508,-405.5 508,-411.5 502,-417.5 496,-417.5\"/>\r\n",
       "<text text-anchor=\"start\" x=\"430.5\" y=\"-402.3\" font-family=\"Helvetica,sans-Serif\" font-size=\"14.00\">gini = 0.0</text>\r\n",
       "<text text-anchor=\"start\" x=\"420\" y=\"-387.3\" font-family=\"Helvetica,sans-Serif\" font-size=\"14.00\">samples = 3</text>\r\n",
       "<text text-anchor=\"start\" x=\"419\" y=\"-372.3\" font-family=\"Helvetica,sans-Serif\" font-size=\"14.00\">value = [0, 3]</text>\r\n",
       "<text text-anchor=\"start\" x=\"422.5\" y=\"-357.3\" font-family=\"Helvetica,sans-Serif\" font-size=\"14.00\">class = Yes</text>\r\n",
       "</g>\r\n",
       "<!-- 19&#45;&gt;20 -->\r\n",
       "<g id=\"edge20\" class=\"edge\"><title>19&#45;&gt;20</title>\r\n",
       "<path fill=\"none\" stroke=\"black\" d=\"M501.296,-460.907C495.26,-449.873 488.709,-437.898 482.624,-426.773\"/>\r\n",
       "<polygon fill=\"black\" stroke=\"black\" points=\"485.512,-424.76 477.643,-417.667 479.371,-428.12 485.512,-424.76\"/>\r\n",
       "</g>\r\n",
       "<!-- 21 -->\r\n",
       "<g id=\"node22\" class=\"node\"><title>21</title>\r\n",
       "<path fill=\"#eeab7b\" stroke=\"black\" d=\"M652.5,-425C652.5,-425 538.5,-425 538.5,-425 532.5,-425 526.5,-419 526.5,-413 526.5,-413 526.5,-354 526.5,-354 526.5,-348 532.5,-342 538.5,-342 538.5,-342 652.5,-342 652.5,-342 658.5,-342 664.5,-348 664.5,-354 664.5,-354 664.5,-413 664.5,-413 664.5,-419 658.5,-425 652.5,-425\"/>\r\n",
       "<text text-anchor=\"start\" x=\"534.5\" y=\"-409.8\" font-family=\"Helvetica,sans-Serif\" font-size=\"14.00\">diff_sym_hos ≤ 8.5</text>\r\n",
       "<text text-anchor=\"start\" x=\"558\" y=\"-394.8\" font-family=\"Helvetica,sans-Serif\" font-size=\"14.00\">gini = 0.375</text>\r\n",
       "<text text-anchor=\"start\" x=\"556\" y=\"-379.8\" font-family=\"Helvetica,sans-Serif\" font-size=\"14.00\">samples = 4</text>\r\n",
       "<text text-anchor=\"start\" x=\"555\" y=\"-364.8\" font-family=\"Helvetica,sans-Serif\" font-size=\"14.00\">value = [3, 1]</text>\r\n",
       "<text text-anchor=\"start\" x=\"562\" y=\"-349.8\" font-family=\"Helvetica,sans-Serif\" font-size=\"14.00\">class = No</text>\r\n",
       "</g>\r\n",
       "<!-- 19&#45;&gt;21 -->\r\n",
       "<g id=\"edge21\" class=\"edge\"><title>19&#45;&gt;21</title>\r\n",
       "<path fill=\"none\" stroke=\"black\" d=\"M548.48,-460.907C553.897,-452.105 559.683,-442.703 565.277,-433.612\"/>\r\n",
       "<polygon fill=\"black\" stroke=\"black\" points=\"568.304,-435.372 570.564,-425.021 562.342,-431.703 568.304,-435.372\"/>\r\n",
       "</g>\r\n",
       "<!-- 22 -->\r\n",
       "<g id=\"node23\" class=\"node\"><title>22</title>\r\n",
       "<path fill=\"#e58139\" stroke=\"black\" d=\"M553,-298.5C553,-298.5 480,-298.5 480,-298.5 474,-298.5 468,-292.5 468,-286.5 468,-286.5 468,-242.5 468,-242.5 468,-236.5 474,-230.5 480,-230.5 480,-230.5 553,-230.5 553,-230.5 559,-230.5 565,-236.5 565,-242.5 565,-242.5 565,-286.5 565,-286.5 565,-292.5 559,-298.5 553,-298.5\"/>\r\n",
       "<text text-anchor=\"start\" x=\"487.5\" y=\"-283.3\" font-family=\"Helvetica,sans-Serif\" font-size=\"14.00\">gini = 0.0</text>\r\n",
       "<text text-anchor=\"start\" x=\"477\" y=\"-268.3\" font-family=\"Helvetica,sans-Serif\" font-size=\"14.00\">samples = 2</text>\r\n",
       "<text text-anchor=\"start\" x=\"476\" y=\"-253.3\" font-family=\"Helvetica,sans-Serif\" font-size=\"14.00\">value = [2, 0]</text>\r\n",
       "<text text-anchor=\"start\" x=\"483\" y=\"-238.3\" font-family=\"Helvetica,sans-Serif\" font-size=\"14.00\">class = No</text>\r\n",
       "</g>\r\n",
       "<!-- 21&#45;&gt;22 -->\r\n",
       "<g id=\"edge22\" class=\"edge\"><title>21&#45;&gt;22</title>\r\n",
       "<path fill=\"none\" stroke=\"black\" d=\"M568.091,-341.907C560.492,-330.652 552.231,-318.418 544.593,-307.106\"/>\r\n",
       "<polygon fill=\"black\" stroke=\"black\" points=\"547.391,-304.996 538.895,-298.667 541.59,-308.913 547.391,-304.996\"/>\r\n",
       "</g>\r\n",
       "<!-- 23 -->\r\n",
       "<g id=\"node24\" class=\"node\"><title>23</title>\r\n",
       "<path fill=\"#ffffff\" stroke=\"black\" d=\"M668,-306C668,-306 595,-306 595,-306 589,-306 583,-300 583,-294 583,-294 583,-235 583,-235 583,-229 589,-223 595,-223 595,-223 668,-223 668,-223 674,-223 680,-229 680,-235 680,-235 680,-294 680,-294 680,-300 674,-306 668,-306\"/>\r\n",
       "<text text-anchor=\"start\" x=\"591\" y=\"-290.8\" font-family=\"Helvetica,sans-Serif\" font-size=\"14.00\">gender ≤ 0.5</text>\r\n",
       "<text text-anchor=\"start\" x=\"602.5\" y=\"-275.8\" font-family=\"Helvetica,sans-Serif\" font-size=\"14.00\">gini = 0.5</text>\r\n",
       "<text text-anchor=\"start\" x=\"592\" y=\"-260.8\" font-family=\"Helvetica,sans-Serif\" font-size=\"14.00\">samples = 2</text>\r\n",
       "<text text-anchor=\"start\" x=\"591\" y=\"-245.8\" font-family=\"Helvetica,sans-Serif\" font-size=\"14.00\">value = [1, 1]</text>\r\n",
       "<text text-anchor=\"start\" x=\"598\" y=\"-230.8\" font-family=\"Helvetica,sans-Serif\" font-size=\"14.00\">class = No</text>\r\n",
       "</g>\r\n",
       "<!-- 21&#45;&gt;23 -->\r\n",
       "<g id=\"edge23\" class=\"edge\"><title>21&#45;&gt;23</title>\r\n",
       "<path fill=\"none\" stroke=\"black\" d=\"M607.99,-341.907C610.587,-333.468 613.353,-324.477 616.042,-315.738\"/>\r\n",
       "<polygon fill=\"black\" stroke=\"black\" points=\"619.436,-316.608 619.032,-306.021 612.746,-314.549 619.436,-316.608\"/>\r\n",
       "</g>\r\n",
       "<!-- 24 -->\r\n",
       "<g id=\"node25\" class=\"node\"><title>24</title>\r\n",
       "<path fill=\"#e58139\" stroke=\"black\" d=\"M553,-179.5C553,-179.5 480,-179.5 480,-179.5 474,-179.5 468,-173.5 468,-167.5 468,-167.5 468,-123.5 468,-123.5 468,-117.5 474,-111.5 480,-111.5 480,-111.5 553,-111.5 553,-111.5 559,-111.5 565,-117.5 565,-123.5 565,-123.5 565,-167.5 565,-167.5 565,-173.5 559,-179.5 553,-179.5\"/>\r\n",
       "<text text-anchor=\"start\" x=\"487.5\" y=\"-164.3\" font-family=\"Helvetica,sans-Serif\" font-size=\"14.00\">gini = 0.0</text>\r\n",
       "<text text-anchor=\"start\" x=\"477\" y=\"-149.3\" font-family=\"Helvetica,sans-Serif\" font-size=\"14.00\">samples = 1</text>\r\n",
       "<text text-anchor=\"start\" x=\"476\" y=\"-134.3\" font-family=\"Helvetica,sans-Serif\" font-size=\"14.00\">value = [1, 0]</text>\r\n",
       "<text text-anchor=\"start\" x=\"483\" y=\"-119.3\" font-family=\"Helvetica,sans-Serif\" font-size=\"14.00\">class = No</text>\r\n",
       "</g>\r\n",
       "<!-- 23&#45;&gt;24 -->\r\n",
       "<g id=\"edge24\" class=\"edge\"><title>23&#45;&gt;24</title>\r\n",
       "<path fill=\"none\" stroke=\"black\" d=\"M591.601,-222.907C580.213,-211.321 567.806,-198.698 556.416,-187.111\"/>\r\n",
       "<polygon fill=\"black\" stroke=\"black\" points=\"558.606,-184.345 549.1,-179.667 553.614,-189.252 558.606,-184.345\"/>\r\n",
       "</g>\r\n",
       "<!-- 25 -->\r\n",
       "<g id=\"node26\" class=\"node\"><title>25</title>\r\n",
       "<path fill=\"#399de5\" stroke=\"black\" d=\"M668,-179.5C668,-179.5 595,-179.5 595,-179.5 589,-179.5 583,-173.5 583,-167.5 583,-167.5 583,-123.5 583,-123.5 583,-117.5 589,-111.5 595,-111.5 595,-111.5 668,-111.5 668,-111.5 674,-111.5 680,-117.5 680,-123.5 680,-123.5 680,-167.5 680,-167.5 680,-173.5 674,-179.5 668,-179.5\"/>\r\n",
       "<text text-anchor=\"start\" x=\"602.5\" y=\"-164.3\" font-family=\"Helvetica,sans-Serif\" font-size=\"14.00\">gini = 0.0</text>\r\n",
       "<text text-anchor=\"start\" x=\"592\" y=\"-149.3\" font-family=\"Helvetica,sans-Serif\" font-size=\"14.00\">samples = 1</text>\r\n",
       "<text text-anchor=\"start\" x=\"591\" y=\"-134.3\" font-family=\"Helvetica,sans-Serif\" font-size=\"14.00\">value = [0, 1]</text>\r\n",
       "<text text-anchor=\"start\" x=\"594.5\" y=\"-119.3\" font-family=\"Helvetica,sans-Serif\" font-size=\"14.00\">class = Yes</text>\r\n",
       "</g>\r\n",
       "<!-- 23&#45;&gt;25 -->\r\n",
       "<g id=\"edge25\" class=\"edge\"><title>23&#45;&gt;25</title>\r\n",
       "<path fill=\"none\" stroke=\"black\" d=\"M631.5,-222.907C631.5,-212.204 631.5,-200.615 631.5,-189.776\"/>\r\n",
       "<polygon fill=\"black\" stroke=\"black\" points=\"635,-189.667 631.5,-179.667 628,-189.667 635,-189.667\"/>\r\n",
       "</g>\r\n",
       "<!-- 27 -->\r\n",
       "<g id=\"node28\" class=\"node\"><title>27</title>\r\n",
       "<path fill=\"#e58139\" stroke=\"black\" d=\"M618,-774.5C618,-774.5 545,-774.5 545,-774.5 539,-774.5 533,-768.5 533,-762.5 533,-762.5 533,-718.5 533,-718.5 533,-712.5 539,-706.5 545,-706.5 545,-706.5 618,-706.5 618,-706.5 624,-706.5 630,-712.5 630,-718.5 630,-718.5 630,-762.5 630,-762.5 630,-768.5 624,-774.5 618,-774.5\"/>\r\n",
       "<text text-anchor=\"start\" x=\"552.5\" y=\"-759.3\" font-family=\"Helvetica,sans-Serif\" font-size=\"14.00\">gini = 0.0</text>\r\n",
       "<text text-anchor=\"start\" x=\"542\" y=\"-744.3\" font-family=\"Helvetica,sans-Serif\" font-size=\"14.00\">samples = 6</text>\r\n",
       "<text text-anchor=\"start\" x=\"541\" y=\"-729.3\" font-family=\"Helvetica,sans-Serif\" font-size=\"14.00\">value = [6, 0]</text>\r\n",
       "<text text-anchor=\"start\" x=\"548\" y=\"-714.3\" font-family=\"Helvetica,sans-Serif\" font-size=\"14.00\">class = No</text>\r\n",
       "</g>\r\n",
       "<!-- 26&#45;&gt;27 -->\r\n",
       "<g id=\"edge27\" class=\"edge\"><title>26&#45;&gt;27</title>\r\n",
       "<path fill=\"none\" stroke=\"black\" d=\"M581.5,-817.907C581.5,-807.204 581.5,-795.615 581.5,-784.776\"/>\r\n",
       "<polygon fill=\"black\" stroke=\"black\" points=\"585,-784.667 581.5,-774.667 578,-784.667 585,-784.667\"/>\r\n",
       "</g>\r\n",
       "<!-- 28 -->\r\n",
       "<g id=\"node29\" class=\"node\"><title>28</title>\r\n",
       "<path fill=\"#61b1ea\" stroke=\"black\" d=\"M814,-782C814,-782 725,-782 725,-782 719,-782 713,-776 713,-770 713,-770 713,-711 713,-711 713,-705 719,-699 725,-699 725,-699 814,-699 814,-699 820,-699 826,-705 826,-711 826,-711 826,-770 826,-770 826,-776 820,-782 814,-782\"/>\r\n",
       "<text text-anchor=\"start\" x=\"729\" y=\"-766.8\" font-family=\"Helvetica,sans-Serif\" font-size=\"14.00\">gender ≤ 0.5</text>\r\n",
       "<text text-anchor=\"start\" x=\"732\" y=\"-751.8\" font-family=\"Helvetica,sans-Serif\" font-size=\"14.00\">gini = 0.278</text>\r\n",
       "<text text-anchor=\"start\" x=\"726\" y=\"-736.8\" font-family=\"Helvetica,sans-Serif\" font-size=\"14.00\">samples = 66</text>\r\n",
       "<text text-anchor=\"start\" x=\"721\" y=\"-721.8\" font-family=\"Helvetica,sans-Serif\" font-size=\"14.00\">value = [11, 55]</text>\r\n",
       "<text text-anchor=\"start\" x=\"732.5\" y=\"-706.8\" font-family=\"Helvetica,sans-Serif\" font-size=\"14.00\">class = Yes</text>\r\n",
       "</g>\r\n",
       "<!-- 26&#45;&gt;28 -->\r\n",
       "<g id=\"edge28\" class=\"edge\"><title>26&#45;&gt;28</title>\r\n",
       "<path fill=\"none\" stroke=\"black\" d=\"M638.161,-823.237C658.971,-810.286 682.697,-795.521 704.205,-782.136\"/>\r\n",
       "<polygon fill=\"black\" stroke=\"black\" points=\"706.314,-784.946 712.955,-776.69 702.615,-779.003 706.314,-784.946\"/>\r\n",
       "</g>\r\n",
       "<!-- 29 -->\r\n",
       "<g id=\"node30\" class=\"node\"><title>29</title>\r\n",
       "<path fill=\"#acd6f4\" stroke=\"black\" d=\"M814,-663C814,-663 725,-663 725,-663 719,-663 713,-657 713,-651 713,-651 713,-592 713,-592 713,-586 719,-580 725,-580 725,-580 814,-580 814,-580 820,-580 826,-586 826,-592 826,-592 826,-651 826,-651 826,-657 820,-663 814,-663\"/>\r\n",
       "<text text-anchor=\"start\" x=\"735.5\" y=\"-647.8\" font-family=\"Helvetica,sans-Serif\" font-size=\"14.00\">age ≤ 75.5</text>\r\n",
       "<text text-anchor=\"start\" x=\"732\" y=\"-632.8\" font-family=\"Helvetica,sans-Serif\" font-size=\"14.00\">gini = 0.464</text>\r\n",
       "<text text-anchor=\"start\" x=\"726\" y=\"-617.8\" font-family=\"Helvetica,sans-Serif\" font-size=\"14.00\">samples = 30</text>\r\n",
       "<text text-anchor=\"start\" x=\"721\" y=\"-602.8\" font-family=\"Helvetica,sans-Serif\" font-size=\"14.00\">value = [11, 19]</text>\r\n",
       "<text text-anchor=\"start\" x=\"732.5\" y=\"-587.8\" font-family=\"Helvetica,sans-Serif\" font-size=\"14.00\">class = Yes</text>\r\n",
       "</g>\r\n",
       "<!-- 28&#45;&gt;29 -->\r\n",
       "<g id=\"edge29\" class=\"edge\"><title>28&#45;&gt;29</title>\r\n",
       "<path fill=\"none\" stroke=\"black\" d=\"M769.5,-698.907C769.5,-690.649 769.5,-681.864 769.5,-673.302\"/>\r\n",
       "<polygon fill=\"black\" stroke=\"black\" points=\"773,-673.021 769.5,-663.021 766,-673.021 773,-673.021\"/>\r\n",
       "</g>\r\n",
       "<!-- 42 -->\r\n",
       "<g id=\"node43\" class=\"node\"><title>42</title>\r\n",
       "<path fill=\"#399de5\" stroke=\"black\" d=\"M937,-655.5C937,-655.5 856,-655.5 856,-655.5 850,-655.5 844,-649.5 844,-643.5 844,-643.5 844,-599.5 844,-599.5 844,-593.5 850,-587.5 856,-587.5 856,-587.5 937,-587.5 937,-587.5 943,-587.5 949,-593.5 949,-599.5 949,-599.5 949,-643.5 949,-643.5 949,-649.5 943,-655.5 937,-655.5\"/>\r\n",
       "<text text-anchor=\"start\" x=\"867.5\" y=\"-640.3\" font-family=\"Helvetica,sans-Serif\" font-size=\"14.00\">gini = 0.0</text>\r\n",
       "<text text-anchor=\"start\" x=\"853\" y=\"-625.3\" font-family=\"Helvetica,sans-Serif\" font-size=\"14.00\">samples = 36</text>\r\n",
       "<text text-anchor=\"start\" x=\"852\" y=\"-610.3\" font-family=\"Helvetica,sans-Serif\" font-size=\"14.00\">value = [0, 36]</text>\r\n",
       "<text text-anchor=\"start\" x=\"859.5\" y=\"-595.3\" font-family=\"Helvetica,sans-Serif\" font-size=\"14.00\">class = Yes</text>\r\n",
       "</g>\r\n",
       "<!-- 28&#45;&gt;42 -->\r\n",
       "<g id=\"edge42\" class=\"edge\"><title>28&#45;&gt;42</title>\r\n",
       "<path fill=\"none\" stroke=\"black\" d=\"M813.562,-698.907C826.378,-687.101 840.363,-674.217 853.136,-662.45\"/>\r\n",
       "<polygon fill=\"black\" stroke=\"black\" points=\"855.515,-665.017 860.498,-655.667 850.772,-659.868 855.515,-665.017\"/>\r\n",
       "</g>\r\n",
       "<!-- 30 -->\r\n",
       "<g id=\"node31\" class=\"node\"><title>30</title>\r\n",
       "<path fill=\"#fae8db\" stroke=\"black\" d=\"M816,-544C816,-544 723,-544 723,-544 717,-544 711,-538 711,-532 711,-532 711,-473 711,-473 711,-467 717,-461 723,-461 723,-461 816,-461 816,-461 822,-461 828,-467 828,-473 828,-473 828,-532 828,-532 828,-538 822,-544 816,-544\"/>\r\n",
       "<text text-anchor=\"start\" x=\"719\" y=\"-528.8\" font-family=\"Helvetica,sans-Serif\" font-size=\"14.00\">location ≤ 116.5</text>\r\n",
       "<text text-anchor=\"start\" x=\"732\" y=\"-513.8\" font-family=\"Helvetica,sans-Serif\" font-size=\"14.00\">gini = 0.495</text>\r\n",
       "<text text-anchor=\"start\" x=\"726\" y=\"-498.8\" font-family=\"Helvetica,sans-Serif\" font-size=\"14.00\">samples = 20</text>\r\n",
       "<text text-anchor=\"start\" x=\"725\" y=\"-483.8\" font-family=\"Helvetica,sans-Serif\" font-size=\"14.00\">value = [11, 9]</text>\r\n",
       "<text text-anchor=\"start\" x=\"736\" y=\"-468.8\" font-family=\"Helvetica,sans-Serif\" font-size=\"14.00\">class = No</text>\r\n",
       "</g>\r\n",
       "<!-- 29&#45;&gt;30 -->\r\n",
       "<g id=\"edge30\" class=\"edge\"><title>29&#45;&gt;30</title>\r\n",
       "<path fill=\"none\" stroke=\"black\" d=\"M769.5,-579.907C769.5,-571.649 769.5,-562.864 769.5,-554.302\"/>\r\n",
       "<polygon fill=\"black\" stroke=\"black\" points=\"773,-554.021 769.5,-544.021 766,-554.021 773,-554.021\"/>\r\n",
       "</g>\r\n",
       "<!-- 41 -->\r\n",
       "<g id=\"node42\" class=\"node\"><title>41</title>\r\n",
       "<path fill=\"#399de5\" stroke=\"black\" d=\"M939,-536.5C939,-536.5 858,-536.5 858,-536.5 852,-536.5 846,-530.5 846,-524.5 846,-524.5 846,-480.5 846,-480.5 846,-474.5 852,-468.5 858,-468.5 858,-468.5 939,-468.5 939,-468.5 945,-468.5 951,-474.5 951,-480.5 951,-480.5 951,-524.5 951,-524.5 951,-530.5 945,-536.5 939,-536.5\"/>\r\n",
       "<text text-anchor=\"start\" x=\"869.5\" y=\"-521.3\" font-family=\"Helvetica,sans-Serif\" font-size=\"14.00\">gini = 0.0</text>\r\n",
       "<text text-anchor=\"start\" x=\"855\" y=\"-506.3\" font-family=\"Helvetica,sans-Serif\" font-size=\"14.00\">samples = 10</text>\r\n",
       "<text text-anchor=\"start\" x=\"854\" y=\"-491.3\" font-family=\"Helvetica,sans-Serif\" font-size=\"14.00\">value = [0, 10]</text>\r\n",
       "<text text-anchor=\"start\" x=\"861.5\" y=\"-476.3\" font-family=\"Helvetica,sans-Serif\" font-size=\"14.00\">class = Yes</text>\r\n",
       "</g>\r\n",
       "<!-- 29&#45;&gt;41 -->\r\n",
       "<g id=\"edge41\" class=\"edge\"><title>29&#45;&gt;41</title>\r\n",
       "<path fill=\"none\" stroke=\"black\" d=\"M814.256,-579.907C827.274,-568.101 841.479,-555.217 854.453,-543.45\"/>\r\n",
       "<polygon fill=\"black\" stroke=\"black\" points=\"856.875,-545.978 861.931,-536.667 852.173,-540.793 856.875,-545.978\"/>\r\n",
       "</g>\r\n",
       "<!-- 31 -->\r\n",
       "<g id=\"node32\" class=\"node\"><title>31</title>\r\n",
       "<path fill=\"#f3c6a5\" stroke=\"black\" d=\"M826.5,-425C826.5,-425 712.5,-425 712.5,-425 706.5,-425 700.5,-419 700.5,-413 700.5,-413 700.5,-354 700.5,-354 700.5,-348 706.5,-342 712.5,-342 712.5,-342 826.5,-342 826.5,-342 832.5,-342 838.5,-348 838.5,-354 838.5,-354 838.5,-413 838.5,-413 838.5,-419 832.5,-425 826.5,-425\"/>\r\n",
       "<text text-anchor=\"start\" x=\"708.5\" y=\"-409.8\" font-family=\"Helvetica,sans-Serif\" font-size=\"14.00\">diff_sym_hos ≤ 2.0</text>\r\n",
       "<text text-anchor=\"start\" x=\"732\" y=\"-394.8\" font-family=\"Helvetica,sans-Serif\" font-size=\"14.00\">gini = 0.457</text>\r\n",
       "<text text-anchor=\"start\" x=\"726\" y=\"-379.8\" font-family=\"Helvetica,sans-Serif\" font-size=\"14.00\">samples = 17</text>\r\n",
       "<text text-anchor=\"start\" x=\"725\" y=\"-364.8\" font-family=\"Helvetica,sans-Serif\" font-size=\"14.00\">value = [11, 6]</text>\r\n",
       "<text text-anchor=\"start\" x=\"736\" y=\"-349.8\" font-family=\"Helvetica,sans-Serif\" font-size=\"14.00\">class = No</text>\r\n",
       "</g>\r\n",
       "<!-- 30&#45;&gt;31 -->\r\n",
       "<g id=\"edge31\" class=\"edge\"><title>30&#45;&gt;31</title>\r\n",
       "<path fill=\"none\" stroke=\"black\" d=\"M769.5,-460.907C769.5,-452.649 769.5,-443.864 769.5,-435.302\"/>\r\n",
       "<polygon fill=\"black\" stroke=\"black\" points=\"773,-435.021 769.5,-425.021 766,-435.021 773,-435.021\"/>\r\n",
       "</g>\r\n",
       "<!-- 40 -->\r\n",
       "<g id=\"node41\" class=\"node\"><title>40</title>\r\n",
       "<path fill=\"#399de5\" stroke=\"black\" d=\"M942,-417.5C942,-417.5 869,-417.5 869,-417.5 863,-417.5 857,-411.5 857,-405.5 857,-405.5 857,-361.5 857,-361.5 857,-355.5 863,-349.5 869,-349.5 869,-349.5 942,-349.5 942,-349.5 948,-349.5 954,-355.5 954,-361.5 954,-361.5 954,-405.5 954,-405.5 954,-411.5 948,-417.5 942,-417.5\"/>\r\n",
       "<text text-anchor=\"start\" x=\"876.5\" y=\"-402.3\" font-family=\"Helvetica,sans-Serif\" font-size=\"14.00\">gini = 0.0</text>\r\n",
       "<text text-anchor=\"start\" x=\"866\" y=\"-387.3\" font-family=\"Helvetica,sans-Serif\" font-size=\"14.00\">samples = 3</text>\r\n",
       "<text text-anchor=\"start\" x=\"865\" y=\"-372.3\" font-family=\"Helvetica,sans-Serif\" font-size=\"14.00\">value = [0, 3]</text>\r\n",
       "<text text-anchor=\"start\" x=\"868.5\" y=\"-357.3\" font-family=\"Helvetica,sans-Serif\" font-size=\"14.00\">class = Yes</text>\r\n",
       "</g>\r\n",
       "<!-- 30&#45;&gt;40 -->\r\n",
       "<g id=\"edge40\" class=\"edge\"><title>30&#45;&gt;40</title>\r\n",
       "<path fill=\"none\" stroke=\"black\" d=\"M816.685,-460.907C830.409,-449.101 845.385,-436.217 859.063,-424.45\"/>\r\n",
       "<polygon fill=\"black\" stroke=\"black\" points=\"861.649,-426.842 866.947,-417.667 857.084,-421.535 861.649,-426.842\"/>\r\n",
       "</g>\r\n",
       "<!-- 32 -->\r\n",
       "<g id=\"node33\" class=\"node\"><title>32</title>\r\n",
       "<path fill=\"#ea9a61\" stroke=\"black\" d=\"M810.5,-306C810.5,-306 728.5,-306 728.5,-306 722.5,-306 716.5,-300 716.5,-294 716.5,-294 716.5,-235 716.5,-235 716.5,-229 722.5,-223 728.5,-223 728.5,-223 810.5,-223 810.5,-223 816.5,-223 822.5,-229 822.5,-235 822.5,-235 822.5,-294 822.5,-294 822.5,-300 816.5,-306 810.5,-306\"/>\r\n",
       "<text text-anchor=\"start\" x=\"724.5\" y=\"-290.8\" font-family=\"Helvetica,sans-Serif\" font-size=\"14.00\">country ≤ 28.5</text>\r\n",
       "<text text-anchor=\"start\" x=\"732\" y=\"-275.8\" font-family=\"Helvetica,sans-Serif\" font-size=\"14.00\">gini = 0.278</text>\r\n",
       "<text text-anchor=\"start\" x=\"726\" y=\"-260.8\" font-family=\"Helvetica,sans-Serif\" font-size=\"14.00\">samples = 12</text>\r\n",
       "<text text-anchor=\"start\" x=\"725\" y=\"-245.8\" font-family=\"Helvetica,sans-Serif\" font-size=\"14.00\">value = [10, 2]</text>\r\n",
       "<text text-anchor=\"start\" x=\"736\" y=\"-230.8\" font-family=\"Helvetica,sans-Serif\" font-size=\"14.00\">class = No</text>\r\n",
       "</g>\r\n",
       "<!-- 31&#45;&gt;32 -->\r\n",
       "<g id=\"edge32\" class=\"edge\"><title>31&#45;&gt;32</title>\r\n",
       "<path fill=\"none\" stroke=\"black\" d=\"M769.5,-341.907C769.5,-333.649 769.5,-324.864 769.5,-316.302\"/>\r\n",
       "<polygon fill=\"black\" stroke=\"black\" points=\"773,-316.021 769.5,-306.021 766,-316.021 773,-316.021\"/>\r\n",
       "</g>\r\n",
       "<!-- 37 -->\r\n",
       "<g id=\"node38\" class=\"node\"><title>37</title>\r\n",
       "<path fill=\"#6ab6ec\" stroke=\"black\" d=\"M1033,-306C1033,-306 940,-306 940,-306 934,-306 928,-300 928,-294 928,-294 928,-235 928,-235 928,-229 934,-223 940,-223 940,-223 1033,-223 1033,-223 1039,-223 1045,-229 1045,-235 1045,-235 1045,-294 1045,-294 1045,-300 1039,-306 1033,-306\"/>\r\n",
       "<text text-anchor=\"start\" x=\"936\" y=\"-290.8\" font-family=\"Helvetica,sans-Serif\" font-size=\"14.00\">vis_wuhan ≤ 0.5</text>\r\n",
       "<text text-anchor=\"start\" x=\"953\" y=\"-275.8\" font-family=\"Helvetica,sans-Serif\" font-size=\"14.00\">gini = 0.32</text>\r\n",
       "<text text-anchor=\"start\" x=\"947\" y=\"-260.8\" font-family=\"Helvetica,sans-Serif\" font-size=\"14.00\">samples = 5</text>\r\n",
       "<text text-anchor=\"start\" x=\"946\" y=\"-245.8\" font-family=\"Helvetica,sans-Serif\" font-size=\"14.00\">value = [1, 4]</text>\r\n",
       "<text text-anchor=\"start\" x=\"949.5\" y=\"-230.8\" font-family=\"Helvetica,sans-Serif\" font-size=\"14.00\">class = Yes</text>\r\n",
       "</g>\r\n",
       "<!-- 31&#45;&gt;37 -->\r\n",
       "<g id=\"edge37\" class=\"edge\"><title>31&#45;&gt;37</title>\r\n",
       "<path fill=\"none\" stroke=\"black\" d=\"M838.757,-345.159C864.387,-331.34 893.394,-315.7 918.878,-301.96\"/>\r\n",
       "<polygon fill=\"black\" stroke=\"black\" points=\"920.592,-305.012 927.733,-297.185 917.27,-298.851 920.592,-305.012\"/>\r\n",
       "</g>\r\n",
       "<!-- 33 -->\r\n",
       "<g id=\"node34\" class=\"node\"><title>33</title>\r\n",
       "<path fill=\"#e88e4d\" stroke=\"black\" d=\"M792.5,-187C792.5,-187 710.5,-187 710.5,-187 704.5,-187 698.5,-181 698.5,-175 698.5,-175 698.5,-116 698.5,-116 698.5,-110 704.5,-104 710.5,-104 710.5,-104 792.5,-104 792.5,-104 798.5,-104 804.5,-110 804.5,-116 804.5,-116 804.5,-175 804.5,-175 804.5,-181 798.5,-187 792.5,-187\"/>\r\n",
       "<text text-anchor=\"start\" x=\"706.5\" y=\"-171.8\" font-family=\"Helvetica,sans-Serif\" font-size=\"14.00\">country ≤ 20.5</text>\r\n",
       "<text text-anchor=\"start\" x=\"714\" y=\"-156.8\" font-family=\"Helvetica,sans-Serif\" font-size=\"14.00\">gini = 0.165</text>\r\n",
       "<text text-anchor=\"start\" x=\"708\" y=\"-141.8\" font-family=\"Helvetica,sans-Serif\" font-size=\"14.00\">samples = 11</text>\r\n",
       "<text text-anchor=\"start\" x=\"707\" y=\"-126.8\" font-family=\"Helvetica,sans-Serif\" font-size=\"14.00\">value = [10, 1]</text>\r\n",
       "<text text-anchor=\"start\" x=\"718\" y=\"-111.8\" font-family=\"Helvetica,sans-Serif\" font-size=\"14.00\">class = No</text>\r\n",
       "</g>\r\n",
       "<!-- 32&#45;&gt;33 -->\r\n",
       "<g id=\"edge33\" class=\"edge\"><title>32&#45;&gt;33</title>\r\n",
       "<path fill=\"none\" stroke=\"black\" d=\"M763.255,-222.907C761.971,-214.558 760.603,-205.671 759.272,-197.02\"/>\r\n",
       "<polygon fill=\"black\" stroke=\"black\" points=\"762.714,-196.372 757.734,-187.021 755.795,-197.437 762.714,-196.372\"/>\r\n",
       "</g>\r\n",
       "<!-- 36 -->\r\n",
       "<g id=\"node37\" class=\"node\"><title>36</title>\r\n",
       "<path fill=\"#399de5\" stroke=\"black\" d=\"M908,-179.5C908,-179.5 835,-179.5 835,-179.5 829,-179.5 823,-173.5 823,-167.5 823,-167.5 823,-123.5 823,-123.5 823,-117.5 829,-111.5 835,-111.5 835,-111.5 908,-111.5 908,-111.5 914,-111.5 920,-117.5 920,-123.5 920,-123.5 920,-167.5 920,-167.5 920,-173.5 914,-179.5 908,-179.5\"/>\r\n",
       "<text text-anchor=\"start\" x=\"842.5\" y=\"-164.3\" font-family=\"Helvetica,sans-Serif\" font-size=\"14.00\">gini = 0.0</text>\r\n",
       "<text text-anchor=\"start\" x=\"832\" y=\"-149.3\" font-family=\"Helvetica,sans-Serif\" font-size=\"14.00\">samples = 1</text>\r\n",
       "<text text-anchor=\"start\" x=\"831\" y=\"-134.3\" font-family=\"Helvetica,sans-Serif\" font-size=\"14.00\">value = [0, 1]</text>\r\n",
       "<text text-anchor=\"start\" x=\"834.5\" y=\"-119.3\" font-family=\"Helvetica,sans-Serif\" font-size=\"14.00\">class = Yes</text>\r\n",
       "</g>\r\n",
       "<!-- 32&#45;&gt;36 -->\r\n",
       "<g id=\"edge36\" class=\"edge\"><title>32&#45;&gt;36</title>\r\n",
       "<path fill=\"none\" stroke=\"black\" d=\"M804.888,-222.907C814.893,-211.432 825.785,-198.938 835.807,-187.442\"/>\r\n",
       "<polygon fill=\"black\" stroke=\"black\" points=\"838.652,-189.505 842.585,-179.667 833.376,-184.905 838.652,-189.505\"/>\r\n",
       "</g>\r\n",
       "<!-- 34 -->\r\n",
       "<g id=\"node35\" class=\"node\"><title>34</title>\r\n",
       "<path fill=\"#e58139\" stroke=\"black\" d=\"M730,-68C730,-68 657,-68 657,-68 651,-68 645,-62 645,-56 645,-56 645,-12 645,-12 645,-6 651,-0 657,-0 657,-0 730,-0 730,-0 736,-0 742,-6 742,-12 742,-12 742,-56 742,-56 742,-62 736,-68 730,-68\"/>\r\n",
       "<text text-anchor=\"start\" x=\"664.5\" y=\"-52.8\" font-family=\"Helvetica,sans-Serif\" font-size=\"14.00\">gini = 0.0</text>\r\n",
       "<text text-anchor=\"start\" x=\"654\" y=\"-37.8\" font-family=\"Helvetica,sans-Serif\" font-size=\"14.00\">samples = 7</text>\r\n",
       "<text text-anchor=\"start\" x=\"653\" y=\"-22.8\" font-family=\"Helvetica,sans-Serif\" font-size=\"14.00\">value = [7, 0]</text>\r\n",
       "<text text-anchor=\"start\" x=\"660\" y=\"-7.8\" font-family=\"Helvetica,sans-Serif\" font-size=\"14.00\">class = No</text>\r\n",
       "</g>\r\n",
       "<!-- 33&#45;&gt;34 -->\r\n",
       "<g id=\"edge34\" class=\"edge\"><title>33&#45;&gt;34</title>\r\n",
       "<path fill=\"none\" stroke=\"black\" d=\"M729.903,-103.726C725.313,-95.0615 720.459,-85.8962 715.842,-77.1802\"/>\r\n",
       "<polygon fill=\"black\" stroke=\"black\" points=\"718.912,-75.4982 711.138,-68.2996 712.726,-78.7748 718.912,-75.4982\"/>\r\n",
       "</g>\r\n",
       "<!-- 35 -->\r\n",
       "<g id=\"node36\" class=\"node\"><title>35</title>\r\n",
       "<path fill=\"#eeab7b\" stroke=\"black\" d=\"M845,-68C845,-68 772,-68 772,-68 766,-68 760,-62 760,-56 760,-56 760,-12 760,-12 760,-6 766,-0 772,-0 772,-0 845,-0 845,-0 851,-0 857,-6 857,-12 857,-12 857,-56 857,-56 857,-62 851,-68 845,-68\"/>\r\n",
       "<text text-anchor=\"start\" x=\"771\" y=\"-52.8\" font-family=\"Helvetica,sans-Serif\" font-size=\"14.00\">gini = 0.375</text>\r\n",
       "<text text-anchor=\"start\" x=\"769\" y=\"-37.8\" font-family=\"Helvetica,sans-Serif\" font-size=\"14.00\">samples = 4</text>\r\n",
       "<text text-anchor=\"start\" x=\"768\" y=\"-22.8\" font-family=\"Helvetica,sans-Serif\" font-size=\"14.00\">value = [3, 1]</text>\r\n",
       "<text text-anchor=\"start\" x=\"775\" y=\"-7.8\" font-family=\"Helvetica,sans-Serif\" font-size=\"14.00\">class = No</text>\r\n",
       "</g>\r\n",
       "<!-- 33&#45;&gt;35 -->\r\n",
       "<g id=\"edge35\" class=\"edge\"><title>33&#45;&gt;35</title>\r\n",
       "<path fill=\"none\" stroke=\"black\" d=\"M772.725,-103.726C777.235,-95.0615 782.006,-85.8962 786.543,-77.1802\"/>\r\n",
       "<polygon fill=\"black\" stroke=\"black\" points=\"789.653,-78.7859 791.166,-68.2996 783.444,-75.5537 789.653,-78.7859\"/>\r\n",
       "</g>\r\n",
       "<!-- 38 -->\r\n",
       "<g id=\"node39\" class=\"node\"><title>38</title>\r\n",
       "<path fill=\"#399de5\" stroke=\"black\" d=\"M1023,-179.5C1023,-179.5 950,-179.5 950,-179.5 944,-179.5 938,-173.5 938,-167.5 938,-167.5 938,-123.5 938,-123.5 938,-117.5 944,-111.5 950,-111.5 950,-111.5 1023,-111.5 1023,-111.5 1029,-111.5 1035,-117.5 1035,-123.5 1035,-123.5 1035,-167.5 1035,-167.5 1035,-173.5 1029,-179.5 1023,-179.5\"/>\r\n",
       "<text text-anchor=\"start\" x=\"957.5\" y=\"-164.3\" font-family=\"Helvetica,sans-Serif\" font-size=\"14.00\">gini = 0.0</text>\r\n",
       "<text text-anchor=\"start\" x=\"947\" y=\"-149.3\" font-family=\"Helvetica,sans-Serif\" font-size=\"14.00\">samples = 4</text>\r\n",
       "<text text-anchor=\"start\" x=\"946\" y=\"-134.3\" font-family=\"Helvetica,sans-Serif\" font-size=\"14.00\">value = [0, 4]</text>\r\n",
       "<text text-anchor=\"start\" x=\"949.5\" y=\"-119.3\" font-family=\"Helvetica,sans-Serif\" font-size=\"14.00\">class = Yes</text>\r\n",
       "</g>\r\n",
       "<!-- 37&#45;&gt;38 -->\r\n",
       "<g id=\"edge38\" class=\"edge\"><title>37&#45;&gt;38</title>\r\n",
       "<path fill=\"none\" stroke=\"black\" d=\"M986.5,-222.907C986.5,-212.204 986.5,-200.615 986.5,-189.776\"/>\r\n",
       "<polygon fill=\"black\" stroke=\"black\" points=\"990,-189.667 986.5,-179.667 983,-189.667 990,-189.667\"/>\r\n",
       "</g>\r\n",
       "<!-- 39 -->\r\n",
       "<g id=\"node40\" class=\"node\"><title>39</title>\r\n",
       "<path fill=\"#e58139\" stroke=\"black\" d=\"M1138,-179.5C1138,-179.5 1065,-179.5 1065,-179.5 1059,-179.5 1053,-173.5 1053,-167.5 1053,-167.5 1053,-123.5 1053,-123.5 1053,-117.5 1059,-111.5 1065,-111.5 1065,-111.5 1138,-111.5 1138,-111.5 1144,-111.5 1150,-117.5 1150,-123.5 1150,-123.5 1150,-167.5 1150,-167.5 1150,-173.5 1144,-179.5 1138,-179.5\"/>\r\n",
       "<text text-anchor=\"start\" x=\"1072.5\" y=\"-164.3\" font-family=\"Helvetica,sans-Serif\" font-size=\"14.00\">gini = 0.0</text>\r\n",
       "<text text-anchor=\"start\" x=\"1062\" y=\"-149.3\" font-family=\"Helvetica,sans-Serif\" font-size=\"14.00\">samples = 1</text>\r\n",
       "<text text-anchor=\"start\" x=\"1061\" y=\"-134.3\" font-family=\"Helvetica,sans-Serif\" font-size=\"14.00\">value = [1, 0]</text>\r\n",
       "<text text-anchor=\"start\" x=\"1068\" y=\"-119.3\" font-family=\"Helvetica,sans-Serif\" font-size=\"14.00\">class = No</text>\r\n",
       "</g>\r\n",
       "<!-- 37&#45;&gt;39 -->\r\n",
       "<g id=\"edge39\" class=\"edge\"><title>37&#45;&gt;39</title>\r\n",
       "<path fill=\"none\" stroke=\"black\" d=\"M1026.4,-222.907C1037.79,-211.321 1050.19,-198.698 1061.58,-187.111\"/>\r\n",
       "<polygon fill=\"black\" stroke=\"black\" points=\"1064.39,-189.252 1068.9,-179.667 1059.39,-184.345 1064.39,-189.252\"/>\r\n",
       "</g>\r\n",
       "</g>\r\n",
       "</svg>\r\n"
      ],
      "text/plain": [
       "<graphviz.files.Source at 0x16cb6434ee0>"
      ]
     },
     "execution_count": 76,
     "metadata": {},
     "output_type": "execute_result"
    }
   ],
   "source": [
    "y_predict=tree_clf.fit(X_train, y_train)\n",
    "dot_data = export_graphviz(tree_clf, out_file=None,\n",
    "                           feature_names=X.columns,\n",
    "                           class_names=['No', 'Yes'],\n",
    "                           filled=True, rounded=True,\n",
    "                           special_characters=True) \n",
    "graph = graphviz.Source(dot_data)\n",
    "graph"
   ]
  },
  {
   "cell_type": "markdown",
   "id": "18b22375",
   "metadata": {},
   "source": [
    "# ROC  DECISION TREE\n"
   ]
  },
  {
   "cell_type": "code",
   "execution_count": 77,
   "id": "301993c4",
   "metadata": {
    "scrolled": false
   },
   "outputs": [
    {
     "data": {
      "image/png": "[encoded data removed]",
      "text/plain": [
       "<Figure size 576x432 with 1 Axes>"
      ]
     },
     "metadata": {
      "needs_background": "light"
     },
     "output_type": "display_data"
    },
    {
     "name": "stdout",
     "output_type": "stream",
     "text": [
      "Area Under the Curve is:  0.9122429459588713\n"
     ]
    }
   ],
   "source": [
    "y_scores = cross_val_predict(tree_clf,X_train,y_train, cv=5)\n",
    "fpr_DT, tpr_DT, threshold_DT = roc_curve(y_train, y_scores)\n",
    "plt.figure(figsize = (8,6))\n",
    "plt.plot(fpr_DT, tpr_DT, 'b')\n",
    "plt.plot([0, 1], [0, 1],'r--')\n",
    "plt.title(\"Decision Tree\")\n",
    "plt.xlabel(\"False Positive Rate\")\n",
    "plt.ylabel(\"True Positive Rate\")\n",
    "plt.show()\n",
    "AUC_of_Decision_Tree = roc_auc_score(y_train, y_scores)\n",
    "print(\"Area Under the Curve is: \" , AUC_of_Decision_Tree)"
   ]
  },
  {
   "cell_type": "markdown",
   "id": "b9921487",
   "metadata": {},
   "source": [
    " # Comparing AUC of KNN & NB & LR & DT"
   ]
  },
  {
   "cell_type": "code",
   "execution_count": 78,
   "id": "b9820aa5",
   "metadata": {
    "scrolled": false
   },
   "outputs": [
    {
     "data": {
      "image/png": "[encoded data removed]",
      "text/plain": [
       "<Figure size 576x432 with 1 Axes>"
      ]
     },
     "metadata": {
      "needs_background": "light"
     },
     "output_type": "display_data"
    }
   ],
   "source": [
    "plt.figure(figsize = (8,6))\n",
    "plt.plot(fpr_NB, tpr_NB, 'b')\n",
    "plt.plot(fpr, tpr, 'g')\n",
    "plt.plot(fpr_log,tpr_log,'orange')\n",
    "plt.plot(fpr_DT,tpr_DT,'violet')\n",
    "plt.plot([0, 1], [0, 1],'r--')\n",
    "plt.legend([\"Naive Bayes\", \"KNN\" ,\"LR\",\"Decision Tree\" ,\"threshold\"], loc =\"lower right\")\n",
    "plt.xlabel(\"False Positive Rate\")\n",
    "plt.ylabel(\"True Positive Rate\")\n",
    "plt.show()"
   ]
  },
  {
   "cell_type": "code",
   "execution_count": 79,
   "id": "33e4c5eb",
   "metadata": {},
   "outputs": [
    {
     "name": "stdout",
     "output_type": "stream",
     "text": [
      "Area Under the Curve in Logistic regression is:  0.8658536585365854\n",
      "Area Under the Curve in KNN is:  0.8511477761836442\n",
      "Area Under the Curve in Naive Bayes is:  0.7052247728359636\n",
      "Area Under the Curve in  Decision Tree is:  0.9122429459588713\n"
     ]
    }
   ],
   "source": [
    "print(\"Area Under the Curve in Logistic regression is: \" , AUC_of_LR)\n",
    "print(\"Area Under the Curve in KNN is: \" , AUC_of_knn)\n",
    "print(\"Area Under the Curve in Naive Bayes is: \" , AUC_of_Naive_Bayes)\n",
    "print(\"Area Under the Curve in  Decision Tree is: \" , AUC_of_Decision_Tree)\n"
   ]
  },
  {
   "cell_type": "markdown",
   "id": "855dfb0c",
   "metadata": {},
   "source": [
    "# Applying support vector machines\n"
   ]
  },
  {
   "cell_type": "code",
   "execution_count": 80,
   "id": "05da7e08",
   "metadata": {},
   "outputs": [],
   "source": [
    "clf = SVC(kernel='linear') \n",
    "clf.fit(X_train, y_train)\n",
    "y_pred = clf.predict(X_test)"
   ]
  },
  {
   "cell_type": "markdown",
   "id": "ea08960e",
   "metadata": {},
   "source": [
    "# recall and precision without hyper parameter tuning"
   ]
  },
  {
   "cell_type": "code",
   "execution_count": 81,
   "id": "0478094f",
   "metadata": {},
   "outputs": [
    {
     "name": "stdout",
     "output_type": "stream",
     "text": [
      "Accuracy: 0.9310344827586207\n",
      "Precision: 0.8888888888888888\n",
      "Recall: 0.42105263157894735\n"
     ]
    }
   ],
   "source": [
    "print(\"Accuracy:\",metrics.accuracy_score(y_test, y_pred))\n",
    "print(\"Precision:\",metrics.precision_score(y_test, y_pred))\n",
    "print(\"Recall:\",metrics.recall_score(y_test, y_pred))"
   ]
  },
  {
   "cell_type": "markdown",
   "id": "e3423c65",
   "metadata": {},
   "source": [
    "# hyperparameter tuning using gridsearchCV"
   ]
  },
  {
   "cell_type": "code",
   "execution_count": 82,
   "id": "5e358c59",
   "metadata": {},
   "outputs": [
    {
     "name": "stdout",
     "output_type": "stream",
     "text": [
      "Fitting 5 folds for each of 48 candidates, totalling 240 fits\n",
      "[CV] END .........................C=0.1, gamma=1, kernel=rbf; total time=   0.0s\n",
      "[CV] END .........................C=0.1, gamma=1, kernel=rbf; total time=   0.0s\n",
      "[CV] END .........................C=0.1, gamma=1, kernel=rbf; total time=   0.0s\n",
      "[CV] END .........................C=0.1, gamma=1, kernel=rbf; total time=   0.0s\n",
      "[CV] END .........................C=0.1, gamma=1, kernel=rbf; total time=   0.0s\n",
      "[CV] END ........................C=0.1, gamma=1, kernel=poly; total time=   0.0s\n",
      "[CV] END ........................C=0.1, gamma=1, kernel=poly; total time=   0.0s\n",
      "[CV] END ........................C=0.1, gamma=1, kernel=poly; total time=   0.0s\n",
      "[CV] END ........................C=0.1, gamma=1, kernel=poly; total time=   0.0s\n",
      "[CV] END ........................C=0.1, gamma=1, kernel=poly; total time=   0.0s\n",
      "[CV] END .....................C=0.1, gamma=1, kernel=sigmoid; total time=   0.0s\n",
      "[CV] END .....................C=0.1, gamma=1, kernel=sigmoid; total time=   0.0s\n",
      "[CV] END .....................C=0.1, gamma=1, kernel=sigmoid; total time=   0.0s\n",
      "[CV] END .....................C=0.1, gamma=1, kernel=sigmoid; total time=   0.0s\n",
      "[CV] END .....................C=0.1, gamma=1, kernel=sigmoid; total time=   0.0s\n",
      "[CV] END .......................C=0.1, gamma=0.1, kernel=rbf; total time=   0.0s\n",
      "[CV] END .......................C=0.1, gamma=0.1, kernel=rbf; total time=   0.0s\n",
      "[CV] END .......................C=0.1, gamma=0.1, kernel=rbf; total time=   0.0s\n",
      "[CV] END .......................C=0.1, gamma=0.1, kernel=rbf; total time=   0.0s\n",
      "[CV] END .......................C=0.1, gamma=0.1, kernel=rbf; total time=   0.0s\n",
      "[CV] END ......................C=0.1, gamma=0.1, kernel=poly; total time=   0.0s\n",
      "[CV] END ......................C=0.1, gamma=0.1, kernel=poly; total time=   0.0s\n",
      "[CV] END ......................C=0.1, gamma=0.1, kernel=poly; total time=   0.0s\n",
      "[CV] END ......................C=0.1, gamma=0.1, kernel=poly; total time=   0.0s\n",
      "[CV] END ......................C=0.1, gamma=0.1, kernel=poly; total time=   0.0s\n",
      "[CV] END ...................C=0.1, gamma=0.1, kernel=sigmoid; total time=   0.0s\n",
      "[CV] END ...................C=0.1, gamma=0.1, kernel=sigmoid; total time=   0.0s\n",
      "[CV] END ...................C=0.1, gamma=0.1, kernel=sigmoid; total time=   0.0s\n",
      "[CV] END ...................C=0.1, gamma=0.1, kernel=sigmoid; total time=   0.0s\n",
      "[CV] END ...................C=0.1, gamma=0.1, kernel=sigmoid; total time=   0.0s\n",
      "[CV] END ......................C=0.1, gamma=0.01, kernel=rbf; total time=   0.0s\n",
      "[CV] END ......................C=0.1, gamma=0.01, kernel=rbf; total time=   0.0s\n",
      "[CV] END ......................C=0.1, gamma=0.01, kernel=rbf; total time=   0.0s\n",
      "[CV] END ......................C=0.1, gamma=0.01, kernel=rbf; total time=   0.0s\n",
      "[CV] END ......................C=0.1, gamma=0.01, kernel=rbf; total time=   0.0s\n",
      "[CV] END .....................C=0.1, gamma=0.01, kernel=poly; total time=   0.0s\n",
      "[CV] END .....................C=0.1, gamma=0.01, kernel=poly; total time=   0.0s\n",
      "[CV] END .....................C=0.1, gamma=0.01, kernel=poly; total time=   0.0s\n",
      "[CV] END .....................C=0.1, gamma=0.01, kernel=poly; total time=   0.0s\n",
      "[CV] END .....................C=0.1, gamma=0.01, kernel=poly; total time=   0.0s\n",
      "[CV] END ..................C=0.1, gamma=0.01, kernel=sigmoid; total time=   0.0s\n",
      "[CV] END ..................C=0.1, gamma=0.01, kernel=sigmoid; total time=   0.0s\n",
      "[CV] END ..................C=0.1, gamma=0.01, kernel=sigmoid; total time=   0.0s\n",
      "[CV] END ..................C=0.1, gamma=0.01, kernel=sigmoid; total time=   0.0s\n",
      "[CV] END ..................C=0.1, gamma=0.01, kernel=sigmoid; total time=   0.0s\n",
      "[CV] END .....................C=0.1, gamma=0.001, kernel=rbf; total time=   0.0s\n",
      "[CV] END .....................C=0.1, gamma=0.001, kernel=rbf; total time=   0.0s\n",
      "[CV] END .....................C=0.1, gamma=0.001, kernel=rbf; total time=   0.0s\n",
      "[CV] END .....................C=0.1, gamma=0.001, kernel=rbf; total time=   0.0s\n",
      "[CV] END .....................C=0.1, gamma=0.001, kernel=rbf; total time=   0.0s\n",
      "[CV] END ....................C=0.1, gamma=0.001, kernel=poly; total time=   0.0s\n",
      "[CV] END ....................C=0.1, gamma=0.001, kernel=poly; total time=   0.0s\n",
      "[CV] END ....................C=0.1, gamma=0.001, kernel=poly; total time=   0.0s\n",
      "[CV] END ....................C=0.1, gamma=0.001, kernel=poly; total time=   0.0s\n",
      "[CV] END ....................C=0.1, gamma=0.001, kernel=poly; total time=   0.0s\n",
      "[CV] END .................C=0.1, gamma=0.001, kernel=sigmoid; total time=   0.0s\n",
      "[CV] END .................C=0.1, gamma=0.001, kernel=sigmoid; total time=   0.0s\n",
      "[CV] END .................C=0.1, gamma=0.001, kernel=sigmoid; total time=   0.0s\n",
      "[CV] END .................C=0.1, gamma=0.001, kernel=sigmoid; total time=   0.0s\n",
      "[CV] END .................C=0.1, gamma=0.001, kernel=sigmoid; total time=   0.0s\n",
      "[CV] END ...........................C=1, gamma=1, kernel=rbf; total time=   0.0s\n",
      "[CV] END ...........................C=1, gamma=1, kernel=rbf; total time=   0.0s\n",
      "[CV] END ...........................C=1, gamma=1, kernel=rbf; total time=   0.0s\n",
      "[CV] END ...........................C=1, gamma=1, kernel=rbf; total time=   0.0s\n",
      "[CV] END ...........................C=1, gamma=1, kernel=rbf; total time=   0.0s\n",
      "[CV] END ..........................C=1, gamma=1, kernel=poly; total time=   0.0s\n",
      "[CV] END ..........................C=1, gamma=1, kernel=poly; total time=   0.0s\n",
      "[CV] END ..........................C=1, gamma=1, kernel=poly; total time=   0.0s\n",
      "[CV] END ..........................C=1, gamma=1, kernel=poly; total time=   0.0s\n",
      "[CV] END ..........................C=1, gamma=1, kernel=poly; total time=   0.0s\n",
      "[CV] END .......................C=1, gamma=1, kernel=sigmoid; total time=   0.0s\n",
      "[CV] END .......................C=1, gamma=1, kernel=sigmoid; total time=   0.0s\n",
      "[CV] END .......................C=1, gamma=1, kernel=sigmoid; total time=   0.0s\n",
      "[CV] END .......................C=1, gamma=1, kernel=sigmoid; total time=   0.0s\n",
      "[CV] END .......................C=1, gamma=1, kernel=sigmoid; total time=   0.0s\n",
      "[CV] END .........................C=1, gamma=0.1, kernel=rbf; total time=   0.0s\n",
      "[CV] END .........................C=1, gamma=0.1, kernel=rbf; total time=   0.0s\n",
      "[CV] END .........................C=1, gamma=0.1, kernel=rbf; total time=   0.0s\n",
      "[CV] END .........................C=1, gamma=0.1, kernel=rbf; total time=   0.0s\n",
      "[CV] END .........................C=1, gamma=0.1, kernel=rbf; total time=   0.0s\n",
      "[CV] END ........................C=1, gamma=0.1, kernel=poly; total time=   0.0s\n",
      "[CV] END ........................C=1, gamma=0.1, kernel=poly; total time=   0.0s\n",
      "[CV] END ........................C=1, gamma=0.1, kernel=poly; total time=   0.0s\n",
      "[CV] END ........................C=1, gamma=0.1, kernel=poly; total time=   0.0s\n",
      "[CV] END ........................C=1, gamma=0.1, kernel=poly; total time=   0.0s\n",
      "[CV] END .....................C=1, gamma=0.1, kernel=sigmoid; total time=   0.0s\n",
      "[CV] END .....................C=1, gamma=0.1, kernel=sigmoid; total time=   0.0s\n",
      "[CV] END .....................C=1, gamma=0.1, kernel=sigmoid; total time=   0.0s\n",
      "[CV] END .....................C=1, gamma=0.1, kernel=sigmoid; total time=   0.0s\n",
      "[CV] END .....................C=1, gamma=0.1, kernel=sigmoid; total time=   0.0s\n",
      "[CV] END ........................C=1, gamma=0.01, kernel=rbf; total time=   0.0s\n",
      "[CV] END ........................C=1, gamma=0.01, kernel=rbf; total time=   0.0s\n",
      "[CV] END ........................C=1, gamma=0.01, kernel=rbf; total time=   0.0s\n",
      "[CV] END ........................C=1, gamma=0.01, kernel=rbf; total time=   0.0s\n",
      "[CV] END ........................C=1, gamma=0.01, kernel=rbf; total time=   0.0s\n",
      "[CV] END .......................C=1, gamma=0.01, kernel=poly; total time=   0.0s\n",
      "[CV] END .......................C=1, gamma=0.01, kernel=poly; total time=   0.0s\n",
      "[CV] END .......................C=1, gamma=0.01, kernel=poly; total time=   0.0s\n",
      "[CV] END .......................C=1, gamma=0.01, kernel=poly; total time=   0.0s\n",
      "[CV] END .......................C=1, gamma=0.01, kernel=poly; total time=   0.0s\n",
      "[CV] END ....................C=1, gamma=0.01, kernel=sigmoid; total time=   0.0s\n",
      "[CV] END ....................C=1, gamma=0.01, kernel=sigmoid; total time=   0.0s\n",
      "[CV] END ....................C=1, gamma=0.01, kernel=sigmoid; total time=   0.0s\n",
      "[CV] END ....................C=1, gamma=0.01, kernel=sigmoid; total time=   0.0s\n",
      "[CV] END ....................C=1, gamma=0.01, kernel=sigmoid; total time=   0.0s\n",
      "[CV] END .......................C=1, gamma=0.001, kernel=rbf; total time=   0.0s\n",
      "[CV] END .......................C=1, gamma=0.001, kernel=rbf; total time=   0.0s\n",
      "[CV] END .......................C=1, gamma=0.001, kernel=rbf; total time=   0.0s\n",
      "[CV] END .......................C=1, gamma=0.001, kernel=rbf; total time=   0.0s\n",
      "[CV] END .......................C=1, gamma=0.001, kernel=rbf; total time=   0.0s\n",
      "[CV] END ......................C=1, gamma=0.001, kernel=poly; total time=   0.0s\n",
      "[CV] END ......................C=1, gamma=0.001, kernel=poly; total time=   0.0s\n",
      "[CV] END ......................C=1, gamma=0.001, kernel=poly; total time=   0.0s\n",
      "[CV] END ......................C=1, gamma=0.001, kernel=poly; total time=   0.0s\n",
      "[CV] END ......................C=1, gamma=0.001, kernel=poly; total time=   0.0s\n",
      "[CV] END ...................C=1, gamma=0.001, kernel=sigmoid; total time=   0.0s\n",
      "[CV] END ...................C=1, gamma=0.001, kernel=sigmoid; total time=   0.0s\n",
      "[CV] END ...................C=1, gamma=0.001, kernel=sigmoid; total time=   0.0s\n",
      "[CV] END ...................C=1, gamma=0.001, kernel=sigmoid; total time=   0.0s\n",
      "[CV] END ...................C=1, gamma=0.001, kernel=sigmoid; total time=   0.0s\n",
      "[CV] END ..........................C=10, gamma=1, kernel=rbf; total time=   0.0s\n",
      "[CV] END ..........................C=10, gamma=1, kernel=rbf; total time=   0.0s\n",
      "[CV] END ..........................C=10, gamma=1, kernel=rbf; total time=   0.0s\n",
      "[CV] END ..........................C=10, gamma=1, kernel=rbf; total time=   0.0s\n",
      "[CV] END ..........................C=10, gamma=1, kernel=rbf; total time=   0.0s\n",
      "[CV] END .........................C=10, gamma=1, kernel=poly; total time=   0.0s\n",
      "[CV] END .........................C=10, gamma=1, kernel=poly; total time=   0.0s\n",
      "[CV] END .........................C=10, gamma=1, kernel=poly; total time=   0.0s\n",
      "[CV] END .........................C=10, gamma=1, kernel=poly; total time=   0.0s\n",
      "[CV] END .........................C=10, gamma=1, kernel=poly; total time=   0.0s\n",
      "[CV] END ......................C=10, gamma=1, kernel=sigmoid; total time=   0.0s\n",
      "[CV] END ......................C=10, gamma=1, kernel=sigmoid; total time=   0.0s\n",
      "[CV] END ......................C=10, gamma=1, kernel=sigmoid; total time=   0.0s\n",
      "[CV] END ......................C=10, gamma=1, kernel=sigmoid; total time=   0.0s\n",
      "[CV] END ......................C=10, gamma=1, kernel=sigmoid; total time=   0.0s\n",
      "[CV] END ........................C=10, gamma=0.1, kernel=rbf; total time=   0.0s\n",
      "[CV] END ........................C=10, gamma=0.1, kernel=rbf; total time=   0.0s\n",
      "[CV] END ........................C=10, gamma=0.1, kernel=rbf; total time=   0.0s\n",
      "[CV] END ........................C=10, gamma=0.1, kernel=rbf; total time=   0.0s\n",
      "[CV] END ........................C=10, gamma=0.1, kernel=rbf; total time=   0.0s\n",
      "[CV] END .......................C=10, gamma=0.1, kernel=poly; total time=   0.0s\n",
      "[CV] END .......................C=10, gamma=0.1, kernel=poly; total time=   0.0s\n",
      "[CV] END .......................C=10, gamma=0.1, kernel=poly; total time=   0.0s\n",
      "[CV] END .......................C=10, gamma=0.1, kernel=poly; total time=   0.0s\n",
      "[CV] END .......................C=10, gamma=0.1, kernel=poly; total time=   0.0s\n",
      "[CV] END ....................C=10, gamma=0.1, kernel=sigmoid; total time=   0.0s\n",
      "[CV] END ....................C=10, gamma=0.1, kernel=sigmoid; total time=   0.0s\n",
      "[CV] END ....................C=10, gamma=0.1, kernel=sigmoid; total time=   0.0s\n",
      "[CV] END ....................C=10, gamma=0.1, kernel=sigmoid; total time=   0.0s\n",
      "[CV] END ....................C=10, gamma=0.1, kernel=sigmoid; total time=   0.0s\n",
      "[CV] END .......................C=10, gamma=0.01, kernel=rbf; total time=   0.0s\n",
      "[CV] END .......................C=10, gamma=0.01, kernel=rbf; total time=   0.0s\n",
      "[CV] END .......................C=10, gamma=0.01, kernel=rbf; total time=   0.0s\n",
      "[CV] END .......................C=10, gamma=0.01, kernel=rbf; total time=   0.0s\n",
      "[CV] END .......................C=10, gamma=0.01, kernel=rbf; total time=   0.0s\n",
      "[CV] END ......................C=10, gamma=0.01, kernel=poly; total time=   0.0s\n",
      "[CV] END ......................C=10, gamma=0.01, kernel=poly; total time=   0.0s\n",
      "[CV] END ......................C=10, gamma=0.01, kernel=poly; total time=   0.0s\n",
      "[CV] END ......................C=10, gamma=0.01, kernel=poly; total time=   0.0s\n",
      "[CV] END ......................C=10, gamma=0.01, kernel=poly; total time=   0.0s\n",
      "[CV] END ...................C=10, gamma=0.01, kernel=sigmoid; total time=   0.0s\n",
      "[CV] END ...................C=10, gamma=0.01, kernel=sigmoid; total time=   0.0s\n",
      "[CV] END ...................C=10, gamma=0.01, kernel=sigmoid; total time=   0.0s\n",
      "[CV] END ...................C=10, gamma=0.01, kernel=sigmoid; total time=   0.0s\n",
      "[CV] END ...................C=10, gamma=0.01, kernel=sigmoid; total time=   0.0s\n",
      "[CV] END ......................C=10, gamma=0.001, kernel=rbf; total time=   0.0s\n",
      "[CV] END ......................C=10, gamma=0.001, kernel=rbf; total time=   0.0s\n",
      "[CV] END ......................C=10, gamma=0.001, kernel=rbf; total time=   0.0s\n",
      "[CV] END ......................C=10, gamma=0.001, kernel=rbf; total time=   0.0s\n",
      "[CV] END ......................C=10, gamma=0.001, kernel=rbf; total time=   0.0s\n",
      "[CV] END .....................C=10, gamma=0.001, kernel=poly; total time=   0.0s\n",
      "[CV] END .....................C=10, gamma=0.001, kernel=poly; total time=   0.0s\n",
      "[CV] END .....................C=10, gamma=0.001, kernel=poly; total time=   0.0s\n",
      "[CV] END .....................C=10, gamma=0.001, kernel=poly; total time=   0.0s\n",
      "[CV] END .....................C=10, gamma=0.001, kernel=poly; total time=   0.0s\n",
      "[CV] END ..................C=10, gamma=0.001, kernel=sigmoid; total time=   0.0s\n",
      "[CV] END ..................C=10, gamma=0.001, kernel=sigmoid; total time=   0.0s\n",
      "[CV] END ..................C=10, gamma=0.001, kernel=sigmoid; total time=   0.0s\n",
      "[CV] END ..................C=10, gamma=0.001, kernel=sigmoid; total time=   0.0s\n",
      "[CV] END ..................C=10, gamma=0.001, kernel=sigmoid; total time=   0.0s\n",
      "[CV] END .........................C=100, gamma=1, kernel=rbf; total time=   0.0s\n",
      "[CV] END .........................C=100, gamma=1, kernel=rbf; total time=   0.0s\n",
      "[CV] END .........................C=100, gamma=1, kernel=rbf; total time=   0.0s\n",
      "[CV] END .........................C=100, gamma=1, kernel=rbf; total time=   0.0s\n",
      "[CV] END .........................C=100, gamma=1, kernel=rbf; total time=   0.0s\n",
      "[CV] END ........................C=100, gamma=1, kernel=poly; total time=   0.0s\n",
      "[CV] END ........................C=100, gamma=1, kernel=poly; total time=   0.0s\n",
      "[CV] END ........................C=100, gamma=1, kernel=poly; total time=   0.0s\n",
      "[CV] END ........................C=100, gamma=1, kernel=poly; total time=   0.0s\n",
      "[CV] END ........................C=100, gamma=1, kernel=poly; total time=   0.0s\n",
      "[CV] END .....................C=100, gamma=1, kernel=sigmoid; total time=   0.0s\n",
      "[CV] END .....................C=100, gamma=1, kernel=sigmoid; total time=   0.0s\n",
      "[CV] END .....................C=100, gamma=1, kernel=sigmoid; total time=   0.0s\n",
      "[CV] END .....................C=100, gamma=1, kernel=sigmoid; total time=   0.0s\n",
      "[CV] END .....................C=100, gamma=1, kernel=sigmoid; total time=   0.0s\n",
      "[CV] END .......................C=100, gamma=0.1, kernel=rbf; total time=   0.0s\n",
      "[CV] END .......................C=100, gamma=0.1, kernel=rbf; total time=   0.0s\n",
      "[CV] END .......................C=100, gamma=0.1, kernel=rbf; total time=   0.0s\n",
      "[CV] END .......................C=100, gamma=0.1, kernel=rbf; total time=   0.0s\n",
      "[CV] END .......................C=100, gamma=0.1, kernel=rbf; total time=   0.0s\n",
      "[CV] END ......................C=100, gamma=0.1, kernel=poly; total time=   0.0s\n",
      "[CV] END ......................C=100, gamma=0.1, kernel=poly; total time=   0.0s\n",
      "[CV] END ......................C=100, gamma=0.1, kernel=poly; total time=   0.0s\n",
      "[CV] END ......................C=100, gamma=0.1, kernel=poly; total time=   0.0s\n",
      "[CV] END ......................C=100, gamma=0.1, kernel=poly; total time=   0.0s\n",
      "[CV] END ...................C=100, gamma=0.1, kernel=sigmoid; total time=   0.0s\n",
      "[CV] END ...................C=100, gamma=0.1, kernel=sigmoid; total time=   0.0s\n",
      "[CV] END ...................C=100, gamma=0.1, kernel=sigmoid; total time=   0.0s\n",
      "[CV] END ...................C=100, gamma=0.1, kernel=sigmoid; total time=   0.0s\n",
      "[CV] END ...................C=100, gamma=0.1, kernel=sigmoid; total time=   0.0s\n",
      "[CV] END ......................C=100, gamma=0.01, kernel=rbf; total time=   0.0s\n",
      "[CV] END ......................C=100, gamma=0.01, kernel=rbf; total time=   0.0s\n",
      "[CV] END ......................C=100, gamma=0.01, kernel=rbf; total time=   0.0s\n",
      "[CV] END ......................C=100, gamma=0.01, kernel=rbf; total time=   0.0s\n",
      "[CV] END ......................C=100, gamma=0.01, kernel=rbf; total time=   0.0s\n",
      "[CV] END .....................C=100, gamma=0.01, kernel=poly; total time=   0.0s\n",
      "[CV] END .....................C=100, gamma=0.01, kernel=poly; total time=   0.0s\n",
      "[CV] END .....................C=100, gamma=0.01, kernel=poly; total time=   0.0s\n",
      "[CV] END .....................C=100, gamma=0.01, kernel=poly; total time=   0.0s\n",
      "[CV] END .....................C=100, gamma=0.01, kernel=poly; total time=   0.0s\n",
      "[CV] END ..................C=100, gamma=0.01, kernel=sigmoid; total time=   0.0s\n",
      "[CV] END ..................C=100, gamma=0.01, kernel=sigmoid; total time=   0.0s\n",
      "[CV] END ..................C=100, gamma=0.01, kernel=sigmoid; total time=   0.0s\n",
      "[CV] END ..................C=100, gamma=0.01, kernel=sigmoid; total time=   0.0s\n",
      "[CV] END ..................C=100, gamma=0.01, kernel=sigmoid; total time=   0.0s\n",
      "[CV] END .....................C=100, gamma=0.001, kernel=rbf; total time=   0.0s\n",
      "[CV] END .....................C=100, gamma=0.001, kernel=rbf; total time=   0.0s\n",
      "[CV] END .....................C=100, gamma=0.001, kernel=rbf; total time=   0.0s\n",
      "[CV] END .....................C=100, gamma=0.001, kernel=rbf; total time=   0.0s\n",
      "[CV] END .....................C=100, gamma=0.001, kernel=rbf; total time=   0.0s\n",
      "[CV] END ....................C=100, gamma=0.001, kernel=poly; total time=   0.0s\n",
      "[CV] END ....................C=100, gamma=0.001, kernel=poly; total time=   0.0s\n",
      "[CV] END ....................C=100, gamma=0.001, kernel=poly; total time=   0.0s\n",
      "[CV] END ....................C=100, gamma=0.001, kernel=poly; total time=   0.0s\n",
      "[CV] END ....................C=100, gamma=0.001, kernel=poly; total time=   0.0s\n",
      "[CV] END .................C=100, gamma=0.001, kernel=sigmoid; total time=   0.0s\n",
      "[CV] END .................C=100, gamma=0.001, kernel=sigmoid; total time=   0.0s\n",
      "[CV] END .................C=100, gamma=0.001, kernel=sigmoid; total time=   0.0s\n",
      "[CV] END .................C=100, gamma=0.001, kernel=sigmoid; total time=   0.0s\n",
      "[CV] END .................C=100, gamma=0.001, kernel=sigmoid; total time=   0.0s\n"
     ]
    },
    {
     "data": {
      "text/plain": [
       "GridSearchCV(estimator=SVC(),\n",
       "             param_grid={'C': [0.1, 1, 10, 100], 'gamma': [1, 0.1, 0.01, 0.001],\n",
       "                         'kernel': ['rbf', 'poly', 'sigmoid']},\n",
       "             verbose=2)"
      ]
     },
     "execution_count": 82,
     "metadata": {},
     "output_type": "execute_result"
    }
   ],
   "source": [
    "param_grid = {'C': [0.1,1, 10, 100], 'gamma': [1,0.1,0.01,0.001],'kernel': ['rbf', 'poly', 'sigmoid']}\n",
    "grid = GridSearchCV(SVC(),param_grid,refit=True,verbose=2)\n",
    "grid.fit(X_valid,y_valid)"
   ]
  },
  {
   "cell_type": "markdown",
   "id": "e598e92a",
   "metadata": {},
   "source": [
    "# printing the best hyper parameters"
   ]
  },
  {
   "cell_type": "code",
   "execution_count": 83,
   "id": "21b94658",
   "metadata": {},
   "outputs": [
    {
     "name": "stdout",
     "output_type": "stream",
     "text": [
      "SVC(C=1, gamma=0.001, kernel='poly')\n"
     ]
    }
   ],
   "source": [
    "print(grid.best_estimator_)"
   ]
  },
  {
   "cell_type": "markdown",
   "id": "7720df11",
   "metadata": {},
   "source": [
    "   # applying support vector machines with the hyper parameters"
   ]
  },
  {
   "cell_type": "code",
   "execution_count": 84,
   "id": "75245e2b",
   "metadata": {},
   "outputs": [],
   "source": [
    "clf = SVC(kernel='poly',gamma=0.001, C=1)\n",
    "clf.fit(X_train, y_train)\n",
    "y_pred = clf.predict(X_test)"
   ]
  },
  {
   "cell_type": "markdown",
   "id": "58557116",
   "metadata": {},
   "source": [
    "# printing the classification report the best hyperparameters"
   ]
  },
  {
   "cell_type": "code",
   "execution_count": 85,
   "id": "399e0704",
   "metadata": {},
   "outputs": [
    {
     "name": "stdout",
     "output_type": "stream",
     "text": [
      "Accuracy: 0.9655172413793104\n",
      "Precision: 0.9333333333333333\n",
      "Recall: 0.7368421052631579\n"
     ]
    }
   ],
   "source": [
    "print(\"Accuracy:\",metrics.accuracy_score(y_test, y_pred))\n",
    "print(\"Precision:\",metrics.precision_score(y_test, y_pred))\n",
    "print(\"Recall:\",metrics.recall_score(y_test, y_pred))\n"
   ]
  },
  {
   "cell_type": "markdown",
   "id": "54747f14",
   "metadata": {},
   "source": [
    "# ROC OF SVM"
   ]
  },
  {
   "cell_type": "code",
   "execution_count": 86,
   "id": "e7003e8d",
   "metadata": {},
   "outputs": [
    {
     "data": {
      "image/png": "[encoded data removed]",
      "text/plain": [
       "<Figure size 576x432 with 1 Axes>"
      ]
     },
     "metadata": {
      "needs_background": "light"
     },
     "output_type": "display_data"
    },
    {
     "name": "stdout",
     "output_type": "stream",
     "text": [
      "Area Under the Curve is:  0.8879124820659969\n"
     ]
    }
   ],
   "source": [
    "y_scores = cross_val_predict(clf,X_train,y_train, cv=5)\n",
    "fpr_SVM, tpr_SVM, threshold_SVM = roc_curve(y_train, y_scores)\n",
    "plt.figure(figsize = (8,6))\n",
    "plt.plot(fpr_SVM, tpr_SVM, 'b')\n",
    "plt.plot([0, 1], [0, 1],'r--')\n",
    "plt.title(\"Decision Tree\")\n",
    "plt.xlabel(\"False Positive Rate\")\n",
    "plt.ylabel(\"True Positive Rate\")\n",
    "plt.show()\n",
    "AUC_of_Support_Vector_Machine = roc_auc_score(y_train, y_scores)\n",
    "print(\"Area Under the Curve is: \" , AUC_of_Support_Vector_Machine)"
   ]
  },
  {
   "cell_type": "markdown",
   "id": "91a0bf3b",
   "metadata": {},
   "source": [
    " # Comparing AUC of KNN & NB & LR & DT &SVM"
   ]
  },
  {
   "cell_type": "code",
   "execution_count": 87,
   "id": "174b8776",
   "metadata": {},
   "outputs": [
    {
     "data": {
      "image/png": "[encoded data removed]",
      "text/plain": [
       "<Figure size 576x432 with 1 Axes>"
      ]
     },
     "metadata": {
      "needs_background": "light"
     },
     "output_type": "display_data"
    }
   ],
   "source": [
    "plt.figure(figsize = (8,6))\n",
    "plt.plot(fpr_NB, tpr_NB, 'b')\n",
    "plt.plot(fpr, tpr, 'g')\n",
    "plt.plot(fpr_log,tpr_log,'orange')\n",
    "plt.plot(fpr_DT,tpr_DT,'violet')\n",
    "plt.plot(fpr_SVM,tpr_SVM,'black')\n",
    "plt.plot([0, 1], [0, 1],'r--')\n",
    "plt.legend([\"Naive Bayes\", \"KNN\" ,\"LR\",\"Decision Tree\",\"Support Vector Machine\" ,\"threshold\"], loc =\"lower right\")\n",
    "plt.xlabel(\"False Positive Rate\")\n",
    "plt.ylabel(\"True Positive Rate\")\n",
    "plt.show()"
   ]
  },
  {
   "cell_type": "code",
   "execution_count": 88,
   "id": "b5b21633",
   "metadata": {},
   "outputs": [
    {
     "name": "stdout",
     "output_type": "stream",
     "text": [
      "Area Under the Curve in Logistic regression is:  0.8658536585365854\n",
      "Area Under the Curve in KNN is:  0.8511477761836442\n",
      "Area Under the Curve in Naive Bayes is:  0.7052247728359636\n",
      "Area Under the Curve in  Decision Tree is:  0.9122429459588713\n",
      "Area Under the Curve in  Support Vector Machine is:  0.8879124820659969\n"
     ]
    }
   ],
   "source": [
    "print(\"Area Under the Curve in Logistic regression is: \" , AUC_of_LR)\n",
    "print(\"Area Under the Curve in KNN is: \" , AUC_of_knn)\n",
    "print(\"Area Under the Curve in Naive Bayes is: \" , AUC_of_Naive_Bayes)\n",
    "print(\"Area Under the Curve in  Decision Tree is: \" , AUC_of_Decision_Tree)\n",
    "print(\"Area Under the Curve in  Support Vector Machine is: \" , AUC_of_Support_Vector_Machine)\n"
   ]
  },
  {
   "cell_type": "code",
   "execution_count": null,
   "id": "f5b93572",
   "metadata": {},
   "outputs": [],
   "source": []
  }
 ],
 "metadata": {
  "kernelspec": {
   "display_name": "Python 3",
   "language": "python",
   "name": "python3"
  },
  "language_info": {
   "codemirror_mode": {
    "name": "ipython",
    "version": 3
   },
   "file_extension": ".py",
   "mimetype": "text/x-python",
   "name": "python",
   "nbconvert_exporter": "python",
   "pygments_lexer": "ipython3",
   "version": "3.8.8"
  }
 },
 "nbformat": 4,
 "nbformat_minor": 5
}
